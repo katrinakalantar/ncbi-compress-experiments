{
 "cells": [
  {
   "cell_type": "markdown",
   "metadata": {},
   "source": [
    "### Experiment 2 - Simulated mutated references, simulate raw data, align raw data to mutated references"
   ]
  },
  {
   "cell_type": "code",
   "execution_count": 61,
   "metadata": {},
   "outputs": [],
   "source": [
    "from Bio import SeqIO\n",
    "import numpy as np\n",
    "import random\n",
    "import pandas as pd\n",
    "import matplotlib.pyplot as plt\n",
    "import time\n",
    "\n",
    "%matplotlib inline"
   ]
  },
  {
   "cell_type": "code",
   "execution_count": 62,
   "metadata": {},
   "outputs": [],
   "source": [
    "# read the original NCBI reference sequence\n",
    "\n",
    "#filename = \"../refs/rhinovirus_NC_001617.fasta\" #\"chkv_NC_004162.fasta\" #\"GCF_900618125.1_NCTC11032_genomic.fna\"\n",
    "filename = \"../refs/chkv_NC_004162.fasta\"\n",
    "#filename = \"../refs/GCF_900618125.1_NCTC11032_genomic.fna\"\n",
    "\n",
    "original_record = SeqIO.read(filename, \"fasta\") # NOTE: this only works with single-sequence .fasta files\n",
    "\n",
    "id_thresholds = [0.99, 0.97, 0.95, 0.92, 0.9, 0.85, 0.8]  # specified list of thresholds\n",
    "\n",
    "def mutate_sequence(sequence, pid):\n",
    "    '''\n",
    "    Given a sequence and a % ID threshold, mutate the sequence at random positions to produce\n",
    "    a new sequence with the specified % ID. Return the new sequence string.\n",
    "    '''\n",
    "    \n",
    "    swap_values = ['A','C','G','T']\n",
    "    \n",
    "    len_of_seq = len(sequence)\n",
    "    num_bp_to_change = (np.round(len_of_seq) * (1-pid))\n",
    "    all_bp_locs = [b for b in range(len_of_seq)]    \n",
    "    bp_locs_to_change = random.sample(all_bp_locs, int(num_bp_to_change))\n",
    "    \n",
    "    # loop through indices of bases to change and swap out values\n",
    "    new_seq = list(sequence)\n",
    "    for bp in bp_locs_to_change:\n",
    "        new_seq[bp] = random.sample([i for i in swap_values if i != new_seq[bp] ], 1)[0]\n",
    "        \n",
    "    return(\"\".join(new_seq))\n",
    "\n",
    "# currate a dictionary of mutated sequences at specified %ID thresholds\n",
    "sequence_dict = {original_record.id : original_record.seq}\n",
    "for i in id_thresholds:\n",
    "    for j in range(1):\n",
    "        this_seq = mutate_sequence(original_record.seq, i)\n",
    "        sequence_dict[str(i) + '-' + str(j+1)] = this_seq\n",
    "        \n",
    "# write the mutated sequences to a fasta file\n",
    "\n",
    "for s in sequence_dict:\n",
    "    with open( s + \".ref.fasta\", 'w') as f: \n",
    "        f.write('>' + s + '\\n' + str(sequence_dict[s]) + '\\n')\n",
    "    f.close()"
   ]
  },
  {
   "cell_type": "code",
   "execution_count": 63,
   "metadata": {},
   "outputs": [
    {
     "name": "stdout",
     "output_type": "stream",
     "text": [
      "INFO:iss.app:Starting iss generate\n",
      "INFO:iss.app:Using kde ErrorModel\n",
      "INFO:iss.util:Stitching input files together\n",
      "INFO:iss.app:Using lognormal abundance distribution\n",
      "INFO:iss.app:Using 2 cpus for read generation\n",
      "INFO:iss.app:Generating 100000 reads\n",
      "INFO:iss.app:Generating reads for record: NC_004162.2\n",
      "INFO:iss.util:Stitching input files together\n",
      "INFO:iss.util:Stitching input files together\n",
      "INFO:iss.util:Cleaning up\n",
      "INFO:iss.app:Read generation complete\n"
     ]
    }
   ],
   "source": [
    "# simulate sequences from the input file\n",
    "! iss generate --genomes {filename} --model miseq --output miseq_reads --n_reads 100000"
   ]
  },
  {
   "cell_type": "code",
   "execution_count": 64,
   "metadata": {},
   "outputs": [
    {
     "name": "stdout",
     "output_type": "stream",
     "text": [
      "[M::mm_idx_gen::0.001*22.49] collected minimizers\n",
      "[M::mm_idx_gen::0.002*13.67] sorted minimizers\n",
      "[M::main::0.002*13.51] loaded/built the index for 1 target sequence(s)\n",
      "[M::mm_mapopt_update::0.002*13.48] mid_occ = 1000\n",
      "[M::mm_idx_stat] kmer size: 21; skip: 11; is_hpc: 0; #seq: 1\n",
      "[M::mm_idx_stat::0.002*12.75] distinct minimizers: 1973 (100.00% are singletons); average occurrences: 1.000; average spacing: 5.994; total length: 11826\n",
      "[M::worker_pipeline::1.380*2.36] mapped 100000 sequences\n",
      "[M::main] Version: 2.22-r1101\n",
      "[M::main] CMD: minimap2 -ax sr NC_004162.2.ref.fasta miseq_reads_R1.fastq miseq_reads_R2.fastq\n",
      "[M::main] Real time: 1.381 sec; CPU: 3.257 sec; Peak RSS: 0.080 GB\n",
      "[M::mm_idx_gen::0.001*20.58] collected minimizers\n",
      "[M::mm_idx_gen::0.002*12.69] sorted minimizers\n",
      "[M::main::0.002*12.53] loaded/built the index for 1 target sequence(s)\n",
      "[M::mm_mapopt_update::0.002*12.50] mid_occ = 1000\n",
      "[M::mm_idx_stat] kmer size: 21; skip: 11; is_hpc: 0; #seq: 1\n",
      "[M::mm_idx_stat::0.002*11.81] distinct minimizers: 1975 (100.00% are singletons); average occurrences: 1.000; average spacing: 5.988; total length: 11826\n",
      "[M::worker_pipeline::1.226*2.43] mapped 100000 sequences\n",
      "[M::main] Version: 2.22-r1101\n",
      "[M::main] CMD: minimap2 -ax sr 0.99-1.ref.fasta miseq_reads_R1.fastq miseq_reads_R2.fastq\n",
      "[M::main] Real time: 1.226 sec; CPU: 2.984 sec; Peak RSS: 0.080 GB\n",
      "[M::mm_idx_gen::0.001*18.60] collected minimizers\n",
      "[M::mm_idx_gen::0.002*11.75] sorted minimizers\n",
      "[M::main::0.002*11.60] loaded/built the index for 1 target sequence(s)\n",
      "[M::mm_mapopt_update::0.002*11.57] mid_occ = 1000\n",
      "[M::mm_idx_stat] kmer size: 21; skip: 11; is_hpc: 0; #seq: 1\n",
      "[M::mm_idx_stat::0.002*10.95] distinct minimizers: 1950 (100.00% are singletons); average occurrences: 1.000; average spacing: 6.065; total length: 11826\n",
      "[M::worker_pipeline::1.279*2.43] mapped 100000 sequences\n",
      "[M::main] Version: 2.22-r1101\n",
      "[M::main] CMD: minimap2 -ax sr 0.97-1.ref.fasta miseq_reads_R1.fastq miseq_reads_R2.fastq\n",
      "[M::main] Real time: 1.280 sec; CPU: 3.104 sec; Peak RSS: 0.080 GB\n",
      "[M::mm_idx_gen::0.001*16.52] collected minimizers\n",
      "[M::mm_idx_gen::0.002*11.59] sorted minimizers\n",
      "[M::main::0.002*11.43] loaded/built the index for 1 target sequence(s)\n",
      "[M::mm_mapopt_update::0.002*11.41] mid_occ = 1000\n",
      "[M::mm_idx_stat] kmer size: 21; skip: 11; is_hpc: 0; #seq: 1\n",
      "[M::mm_idx_stat::0.002*10.74] distinct minimizers: 1957 (100.00% are singletons); average occurrences: 1.000; average spacing: 6.043; total length: 11826\n",
      "[M::worker_pipeline::1.521*2.55] mapped 100000 sequences\n",
      "[M::main] Version: 2.22-r1101\n",
      "[M::main] CMD: minimap2 -ax sr 0.95-1.ref.fasta miseq_reads_R1.fastq miseq_reads_R2.fastq\n",
      "[M::main] Real time: 1.521 sec; CPU: 3.873 sec; Peak RSS: 0.080 GB\n",
      "[M::mm_idx_gen::0.001*20.72] collected minimizers\n",
      "[M::mm_idx_gen::0.002*12.56] sorted minimizers\n",
      "[M::main::0.002*12.43] loaded/built the index for 1 target sequence(s)\n",
      "[M::mm_mapopt_update::0.002*12.40] mid_occ = 1000\n",
      "[M::mm_idx_stat] kmer size: 21; skip: 11; is_hpc: 0; #seq: 1\n",
      "[M::mm_idx_stat::0.002*11.72] distinct minimizers: 1987 (100.00% are singletons); average occurrences: 1.000; average spacing: 5.952; total length: 11826\n",
      "[M::worker_pipeline::1.870*2.62] mapped 100000 sequences\n",
      "[M::main] Version: 2.22-r1101\n",
      "[M::main] CMD: minimap2 -ax sr 0.92-1.ref.fasta miseq_reads_R1.fastq miseq_reads_R2.fastq\n",
      "[M::main] Real time: 1.870 sec; CPU: 4.908 sec; Peak RSS: 0.079 GB\n",
      "[M::mm_idx_gen::0.001*18.72] collected minimizers\n",
      "[M::mm_idx_gen::0.002*12.51] sorted minimizers\n",
      "[M::main::0.002*12.26] loaded/built the index for 1 target sequence(s)\n",
      "[M::mm_mapopt_update::0.002*12.23] mid_occ = 1000\n",
      "[M::mm_idx_stat] kmer size: 21; skip: 11; is_hpc: 0; #seq: 1\n",
      "[M::mm_idx_stat::0.002*11.52] distinct minimizers: 1987 (100.00% are singletons); average occurrences: 1.000; average spacing: 5.952; total length: 11826\n",
      "[M::worker_pipeline::1.650*2.61] mapped 100000 sequences\n",
      "[M::main] Version: 2.22-r1101\n",
      "[M::main] CMD: minimap2 -ax sr 0.9-1.ref.fasta miseq_reads_R1.fastq miseq_reads_R2.fastq\n",
      "[M::main] Real time: 1.651 sec; CPU: 4.304 sec; Peak RSS: 0.076 GB\n",
      "[M::mm_idx_gen::0.001*17.58] collected minimizers\n",
      "[M::mm_idx_gen::0.002*11.26] sorted minimizers\n",
      "[M::main::0.002*11.04] loaded/built the index for 1 target sequence(s)\n",
      "[M::mm_mapopt_update::0.002*11.01] mid_occ = 1000\n",
      "[M::mm_idx_stat] kmer size: 21; skip: 11; is_hpc: 0; #seq: 1\n",
      "[M::mm_idx_stat::0.002*10.42] distinct minimizers: 1979 (100.00% are singletons); average occurrences: 1.000; average spacing: 5.976; total length: 11826\n",
      "[M::worker_pipeline::0.906*2.23] mapped 100000 sequences\n",
      "[M::main] Version: 2.22-r1101\n",
      "[M::main] CMD: minimap2 -ax sr 0.85-1.ref.fasta miseq_reads_R1.fastq miseq_reads_R2.fastq\n",
      "[M::main] Real time: 0.907 sec; CPU: 2.026 sec; Peak RSS: 0.071 GB\n",
      "[M::mm_idx_gen::0.001*18.08] collected minimizers\n",
      "[M::mm_idx_gen::0.002*11.82] sorted minimizers\n",
      "[M::main::0.002*11.65] loaded/built the index for 1 target sequence(s)\n",
      "[M::mm_mapopt_update::0.002*11.62] mid_occ = 1000\n",
      "[M::mm_idx_stat] kmer size: 21; skip: 11; is_hpc: 0; #seq: 1\n",
      "[M::mm_idx_stat::0.002*10.97] distinct minimizers: 1974 (100.00% are singletons); average occurrences: 1.000; average spacing: 5.991; total length: 11826\n",
      "[M::worker_pipeline::0.578*2.06] mapped 100000 sequences\n",
      "[M::main] Version: 2.22-r1101\n",
      "[M::main] CMD: minimap2 -ax sr 0.8-1.ref.fasta miseq_reads_R1.fastq miseq_reads_R2.fastq\n",
      "[M::main] Real time: 0.578 sec; CPU: 1.189 sec; Peak RSS: 0.070 GB\n"
     ]
    }
   ],
   "source": [
    "# run minimap2\n",
    "\n",
    "result_dictionary = {}\n",
    "\n",
    "for i in sequence_dict:\n",
    "    this_ref = str(i) + \".ref.fasta\"\n",
    "\n",
    "    # note: this is the minimap2 command used in CZ ID short-read-mngs workflow\n",
    "    ! minimap2 -ax sr {this_ref} miseq_reads_R1.fastq miseq_reads_R2.fastq > aln.sam\n",
    "    ! samtools stats aln.sam > alnstats.txt\n",
    "    unmapped_reads_string = ! grep \"reads unmapped:\" alnstats.txt\n",
    "    unmapped_reads_count = int(unmapped_reads_string[0].split(':')[-1].strip())\n",
    "    \n",
    "    result_dictionary[i] = unmapped_reads_count"
   ]
  },
  {
   "cell_type": "code",
   "execution_count": 65,
   "metadata": {},
   "outputs": [
    {
     "name": "stdout",
     "output_type": "stream",
     "text": [
      "NC_004162.2        2\n",
      "0.99-1             7\n",
      "0.97-1           129\n",
      "0.95-1          1395\n",
      "0.92-1         13091\n",
      "0.9-1          36683\n",
      "0.85-1         81276\n",
      "0.8-1          96206\n",
      "dtype: int64\n",
      "NC_004162.2    0.00002\n",
      "0.99-1         0.00007\n",
      "0.97-1         0.00129\n",
      "0.95-1         0.01395\n",
      "0.92-1         0.13091\n",
      "0.9-1          0.36683\n",
      "0.85-1         0.81276\n",
      "0.8-1          0.96206\n",
      "dtype: float64\n"
     ]
    },
    {
     "data": {
      "image/png": "[encoded data removed]",
      "text/plain": [
       "<Figure size 432x288 with 1 Axes>"
      ]
     },
     "metadata": {
      "needs_background": "light"
     },
     "output_type": "display_data"
    }
   ],
   "source": [
    "ser = pd.Series(result_dictionary)\n",
    "print(ser)\n",
    "print(ser/100000)\n",
    "\n",
    "graph = (ser/100000).plot(kind='bar', title='% of reads unmapped -- ' + filename.split('/')[-1], \n",
    "                          ylabel = \"% of reads\", xlabel = \"%ID\",\n",
    "                         ylim = (0,1))\n",
    "graph.axhline(0.01, lw=.7, color='red')\n",
    "plt.show()"
   ]
  },
  {
   "cell_type": "code",
   "execution_count": null,
   "metadata": {},
   "outputs": [],
   "source": []
  }
 ],
 "metadata": {
  "kernelspec": {
   "display_name": "Python 3",
   "language": "python",
   "name": "python3"
  },
  "language_info": {
   "codemirror_mode": {
    "name": "ipython",
    "version": 3
   },
   "file_extension": ".py",
   "mimetype": "text/x-python",
   "name": "python",
   "nbconvert_exporter": "python",
   "pygments_lexer": "ipython3",
   "version": "3.8.5"
  }
 },
 "nbformat": 4,
 "nbformat_minor": 4
}
