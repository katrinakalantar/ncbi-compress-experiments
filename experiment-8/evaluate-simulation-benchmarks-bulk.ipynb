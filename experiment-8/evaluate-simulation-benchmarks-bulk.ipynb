{
 "cells": [
  {
   "cell_type": "code",
   "execution_count": 25,
   "metadata": {},
   "outputs": [
    {
     "data": {
      "text/html": [
       "<style>.container { width:100% !important; }</style>"
      ],
      "text/plain": [
       "<IPython.core.display.HTML object>"
      ]
     },
     "metadata": {},
     "output_type": "display_data"
    }
   ],
   "source": [
    "import pandas as pd\n",
    "import matplotlib.pyplot as plt\n",
    "from scipy import stats\n",
    "import numpy as np\n",
    "import matplotlib.patches as mpatches\n",
    "import numpy as np\n",
    "import seaborn as sns\n",
    "import glob\n",
    "\n",
    "from IPython.display import display, HTML\n",
    "display(HTML(\"<style>.container { width:100% !important; }</style>\"))\n",
    "\n",
    "%matplotlib inline"
   ]
  },
  {
   "cell_type": "markdown",
   "metadata": {},
   "source": [
    "### Analysis of Divergent Virus simulations\n",
    "\n",
    "This script should work for both Illumina and Nanopore simulations (depending on the configurations for data location set in the cell below)"
   ]
  },
  {
   "cell_type": "code",
   "execution_count": 26,
   "metadata": {},
   "outputs": [],
   "source": [
    "baseline_data = \"./data/BASELINE/virus_simulation/\"\n",
    "new_data = \"./data/NEW/virus_simulation/\"\n",
    "metric = 'rpm' #bpm if ONT, rpm if ILMN\n",
    "\n",
    "manifest = {'lassa_virus': 'Mammarenavirus', \n",
    "            'nipah_virus': 'Henipavirus',\n",
    "            'rhinovirus_C': 'Enterovisu',\n",
    "            'sars_cov_2': 'Betacoronavirus',\n",
    "            'human_betaherpesvirus_5':'Cytomegalovirus',\n",
    "            'hepatitis_B_virus': 'Orthohepadnavirus'}"
   ]
  },
  {
   "cell_type": "code",
   "execution_count": 27,
   "metadata": {},
   "outputs": [],
   "source": [
    "def synthesize_virus_results(directory, metric):\n",
    "\n",
    "    all_results = {}\n",
    "    min_results = {}\n",
    "    for file in glob.glob(baseline_data + \"*.csv\"):\n",
    "        #print(\"---\")\n",
    "\n",
    "        parsed_name = file.split('/')[-1].split('_')\n",
    "        divergence = int(parsed_name[-3].split('m')[1])\n",
    "        virus_name = '_'.join(parsed_name[0:-3])\n",
    "\n",
    "        if virus_name not in all_results.keys():\n",
    "            all_results[virus_name] = {}\n",
    "            min_results[virus_name] = {}\n",
    "            min_results[virus_name]['min_detection_nt'] = 0\n",
    "            min_results[virus_name]['min_detection_nr'] = 0\n",
    "\n",
    "        all_results[virus_name][divergence] = {}\n",
    "\n",
    "        input_df = pd.read_csv(file)\n",
    "        genus_df = input_df[input_df.tax_level == 2]\n",
    "\n",
    "        genus_df = input_df[input_df.name == manifest[virus_name]]\n",
    "\n",
    "        nt_rpm = genus_df['nt_' + metric][0]\n",
    "        nr_rpm = genus_df['nr_' + metric][0]\n",
    "\n",
    "        all_results[virus_name][divergence]['nt_' + metric]=nt_rpm\n",
    "        all_results[virus_name][divergence]['nr_' + metric]=nr_rpm\n",
    "\n",
    "        if nt_rpm > 0:\n",
    "            if divergence > min_results[virus_name]['min_detection_nt']:\n",
    "                min_results[virus_name]['min_detection_nt'] = divergence\n",
    "        if nr_rpm > 0:\n",
    "            if divergence > min_results[virus_name]['min_detection_nr']:\n",
    "                min_results[virus_name]['min_detection_nr'] = divergence\n",
    "\n",
    "    print(all_results)\n",
    "    \n",
    "    df_list = []\n",
    "    df_names = []\n",
    "    for i in all_results.keys():\n",
    "        df_names.append(i)\n",
    "        df_names.append(i)\n",
    "        df_list.append(pd.DataFrame(all_results[i]))\n",
    "\n",
    "    full_df = pd.concat(df_list)\n",
    "    full_df.index = [df_names[i] + '_' + full_df.index[i] for i in range(len(full_df.index))]\n",
    "    full_df\n",
    "    print(full_df)\n",
    "    \n",
    "    #plot of minimum divergences\n",
    "    min_res_df = pd.DataFrame(min_results)\n",
    "    print(min_res_df)\n",
    "    min_res_df.plot(kind='bar')\n",
    "    \n",
    "    return([all_results, full_df, min_results])"
   ]
  },
  {
   "cell_type": "code",
   "execution_count": 28,
   "metadata": {
    "scrolled": true
   },
   "outputs": [
    {
     "name": "stdout",
     "output_type": "stream",
     "text": [
      "{'nipah_virus': {5: {'nt_rpm': 391509.43396226416, 'nr_rpm': 325471.6981132076}, 15: {'nt_rpm': 297169.8113207547, 'nr_rpm': 259433.96226415093}, 10: {'nt_rpm': 485849.0566037736, 'nr_rpm': 358490.56603773584}}, 'lassa_virus': {20: {'nt_rpm': 140000.0, 'nr_rpm': 320000.0}, 10: {'nt_rpm': 352000.0, 'nr_rpm': 344000.0}, 15: {'nt_rpm': 308000.0, 'nr_rpm': 428000.0}, 25: {'nt_rpm': 48000.0, 'nr_rpm': 348000.0}}}\n",
      "                               5              10             15        20  \\\n",
      "nipah_virus_nt_rpm  391509.433962  485849.056604  297169.811321       NaN   \n",
      "nipah_virus_nr_rpm  325471.698113  358490.566038  259433.962264       NaN   \n",
      "lassa_virus_nt_rpm            NaN  352000.000000  308000.000000  140000.0   \n",
      "lassa_virus_nr_rpm            NaN  344000.000000  428000.000000  320000.0   \n",
      "\n",
      "                          25  \n",
      "nipah_virus_nt_rpm       NaN  \n",
      "nipah_virus_nr_rpm       NaN  \n",
      "lassa_virus_nt_rpm   48000.0  \n",
      "lassa_virus_nr_rpm  348000.0  \n",
      "                  nipah_virus  lassa_virus\n",
      "min_detection_nt           15           25\n",
      "min_detection_nr           15           25\n",
      "{'nipah_virus': {5: {'nt_rpm': 391509.43396226416, 'nr_rpm': 325471.6981132076}, 15: {'nt_rpm': 297169.8113207547, 'nr_rpm': 259433.96226415093}, 10: {'nt_rpm': 485849.0566037736, 'nr_rpm': 358490.56603773584}}, 'lassa_virus': {20: {'nt_rpm': 140000.0, 'nr_rpm': 320000.0}, 10: {'nt_rpm': 352000.0, 'nr_rpm': 344000.0}, 15: {'nt_rpm': 308000.0, 'nr_rpm': 428000.0}, 25: {'nt_rpm': 48000.0, 'nr_rpm': 348000.0}}}\n",
      "                               5              10             15        20  \\\n",
      "nipah_virus_nt_rpm  391509.433962  485849.056604  297169.811321       NaN   \n",
      "nipah_virus_nr_rpm  325471.698113  358490.566038  259433.962264       NaN   \n",
      "lassa_virus_nt_rpm            NaN  352000.000000  308000.000000  140000.0   \n",
      "lassa_virus_nr_rpm            NaN  344000.000000  428000.000000  320000.0   \n",
      "\n",
      "                          25  \n",
      "nipah_virus_nt_rpm       NaN  \n",
      "nipah_virus_nr_rpm       NaN  \n",
      "lassa_virus_nt_rpm   48000.0  \n",
      "lassa_virus_nr_rpm  348000.0  \n",
      "                  nipah_virus  lassa_virus\n",
      "min_detection_nt           15           25\n",
      "min_detection_nr           15           25\n"
     ]
    },
    {
     "data": {
      "image/png": "[encoded data removed]",
      "text/plain": [
       "<Figure size 432x288 with 1 Axes>"
      ]
     },
     "metadata": {
      "needs_background": "light"
     },
     "output_type": "display_data"
    },
    {
     "data": {
      "image/png": "[encoded data removed]",
      "text/plain": [
       "<Figure size 432x288 with 1 Axes>"
      ]
     },
     "metadata": {
      "needs_background": "light"
     },
     "output_type": "display_data"
    }
   ],
   "source": [
    "baseline_results = synthesize_virus_results(baseline_data, metric)\n",
    "new_results = synthesize_virus_results(new_data, metric)"
   ]
  },
  {
   "cell_type": "code",
   "execution_count": 29,
   "metadata": {},
   "outputs": [],
   "source": [
    "# palette from here: https://flatuicolors.com/palette/us\n",
    "official_colors = ['#55efc4','#00b894', #greens \n",
    "                   '#81ecec','#00cec9', #teals\n",
    "                   '#74b9ff','#0984e3', #blues\n",
    "                   '#a29bfe','#6c5ce7', #purples\n",
    "                   '#ffeaa7','#fdcb6e', #yellows\n",
    "                   '#fab1a0', '#e17055', #oranges\n",
    "                   '#ff7675', '#d63031', #reds\n",
    "                   '#fd79a8', '#e84393', #pinks\n",
    "                   '#dfe6e9', '#b2bec3', '#636e72', '#2d3436' #greys\n",
    "                  ]"
   ]
  },
  {
   "cell_type": "code",
   "execution_count": 30,
   "metadata": {},
   "outputs": [
    {
     "data": {
      "image/png": "[encoded data removed]",
      "text/plain": [
       "<Figure size 432x288 with 1 Axes>"
      ]
     },
     "metadata": {
      "needs_background": "light"
     },
     "output_type": "display_data"
    }
   ],
   "source": [
    "# Figure 3A (or S5A, if nanopore data)\n",
    "\n",
    "baseline_full = baseline_results[1]\n",
    "baseline_full.fillna(0, inplace=True)\n",
    "new_full = new_results[1]\n",
    "new_full.fillna(0, inplace=True)\n",
    "\n",
    "a=(baseline_full.loc[['nipah_virus_nt_' + metric, 'nipah_virus_nr_' + metric]]+10000).transpose().plot(color = [official_colors[4], official_colors[10]], lw=3, figsize=(6,4)) #style={'nipah_virus_nt_rpm': '*-r', 'nipah_virus_nr_rpm': '*:r'}\n",
    "new_full.loc[['nipah_virus_nt_' + metric, 'nipah_virus_nr_' + metric]].transpose().plot(color = [official_colors[5], official_colors[11]], ax=a, lw=3) #style={'nipah_virus_nt_rpm': '*-b', 'nipah_virus_nr_rpm': '*:b'}, \n",
    "plt.xticks([5, 10, 15, 20, 25])\n",
    "plt.xlabel('% Divergence from Reference')\n",
    "plt.ylabel(metric)\n",
    "plt.show()\n"
   ]
  },
  {
   "cell_type": "code",
   "execution_count": 31,
   "metadata": {},
   "outputs": [
    {
     "name": "stdout",
     "output_type": "stream",
     "text": [
      "{'new_nt': {'nipah_virus': 25, 'lassa_virus': 35}, 'baseline_nt': {'nipah_virus': 15, 'lassa_virus': 25}, 'new_nr': {'nipah_virus': 25, 'lassa_virus': 35}, 'baseline_nr': {'nipah_virus': 15, 'lassa_virus': 25}}\n"
     ]
    },
    {
     "data": {
      "text/plain": [
       "Text(0, 0.5, '% Divergence - Limit of Detection')"
      ]
     },
     "execution_count": 31,
     "metadata": {},
     "output_type": "execute_result"
    },
    {
     "data": {
      "image/png": "[encoded data removed]",
      "text/plain": [
       "<Figure size 432x288 with 1 Axes>"
      ]
     },
     "metadata": {
      "needs_background": "light"
     },
     "output_type": "display_data"
    }
   ],
   "source": [
    "# Figure 3B (or S5A, if nanopore data)\n",
    "\n",
    "min_results_baseline = baseline_results[2]\n",
    "min_results_new = new_results[2]\n",
    "min_results_new\n",
    "\n",
    "all_mins = {}\n",
    "\n",
    "for i in ['nt', 'nr']:\n",
    "    all_mins['new_'+i] = {}\n",
    "    all_mins['baseline_'+i] = {}\n",
    "    \n",
    "    for j in min_results_new:\n",
    "        all_mins['new_'+i][j] = min_results_new[j]['min_detection_' + i] + 10\n",
    "        \n",
    "    for j in min_results_baseline:\n",
    "        all_mins['baseline_'+i][j] = min_results_baseline[j]['min_detection_' + i]\n",
    "\n",
    "print(all_mins)\n",
    "lod_df = pd.DataFrame(all_mins)\n",
    "\n",
    "\n",
    "lod_df_column_order = ['new_nt', 'new_nr', 'baseline_nt', 'baseline_nr']\n",
    "lod_df[lod_df_column_order].boxplot(showfliers=False, color='black', figsize=(6,4))\n",
    "for i, d in enumerate(lod_df[lod_df_column_order]):\n",
    "    y = lod_df[d]\n",
    "    x = np.random.normal(i + 1, 0.08, len(y))\n",
    "    plt.scatter(x, y, color = official_colors[4:6])\n",
    "plt.grid(False)\n",
    "plt.yticks([0, 5, 10, 15, 20, 25, 30, 35, 40])\n",
    "plt.ylabel('% Divergence - Limit of Detection')\n",
    "#plt.title('Limit of Detection Across All \\n Simulated Divergent Viruses')\n"
   ]
  },
  {
   "cell_type": "code",
   "execution_count": 32,
   "metadata": {},
   "outputs": [
    {
     "name": "stdout",
     "output_type": "stream",
     "text": [
      "NT limit of detection NEW: \n",
      "30.0 (range = 25 - 35)\n",
      "NR limit of detection NEW: \n",
      "30.0 (range = 25 - 35)\n",
      "NT limit of detection OLD: \n",
      "NT: 20.0, range = 15 - 25\n",
      "NR limit of detection OLD: \n",
      "NR: 20.0, range = 15 - 25\n"
     ]
    }
   ],
   "source": [
    "# From Text...\n",
    "# \"the median limit of detection using the compressed database was XX (range XX - XX) for NT \n",
    "# and XX (range XX - XX) for NR\"\n",
    "\n",
    "print(\"NT limit of detection NEW: \")\n",
    "print(str(np.mean(lod_df['new_nt'])) + ' (range = ' + str(np.min(lod_df['new_nt'])) + ' - ' + str(np.max(lod_df['new_nt'])) + ')')\n",
    "\n",
    "print(\"NR limit of detection NEW: \")\n",
    "print(str(np.mean(lod_df['new_nr'])) + ' (range = ' + str(np.min(lod_df['new_nr'])) + ' - ' + str(np.max(lod_df['new_nr'])) + ')')\n",
    "\n",
    "\n",
    "\n",
    "print(\"NT limit of detection OLD: \")\n",
    "print(\"NT: \" + str(np.mean(lod_df['baseline_nt'])) + ', range = ' + str(np.min(lod_df['baseline_nt'])) + ' - ' + str(np.max(lod_df['baseline_nt'])))\n",
    "\n",
    "print(\"NR limit of detection OLD: \")\n",
    "print(\"NR: \" + str(np.mean(lod_df['baseline_nr'])) + ', range = ' + str(np.min(lod_df['baseline_nr'])) + ' - ' + str(np.max(lod_df['baseline_nr'])))\n",
    "\n",
    "\n"
   ]
  },
  {
   "cell_type": "code",
   "execution_count": null,
   "metadata": {},
   "outputs": [],
   "source": []
  }
 ],
 "metadata": {
  "kernelspec": {
   "display_name": "Python 3",
   "language": "python",
   "name": "python3"
  },
  "language_info": {
   "codemirror_mode": {
    "name": "ipython",
    "version": 3
   },
   "file_extension": ".py",
   "mimetype": "text/x-python",
   "name": "python",
   "nbconvert_exporter": "python",
   "pygments_lexer": "ipython3",
   "version": "3.8.5"
  }
 },
 "nbformat": 4,
 "nbformat_minor": 4
}
