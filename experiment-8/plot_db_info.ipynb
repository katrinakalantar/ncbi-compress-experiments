{
 "cells": [
  {
   "cell_type": "code",
   "execution_count": 1,
   "metadata": {},
   "outputs": [
    {
     "data": {
      "text/html": [
       "<style>.container { width:100% !important; }</style>"
      ],
      "text/plain": [
       "<IPython.core.display.HTML object>"
      ]
     },
     "metadata": {},
     "output_type": "display_data"
    }
   ],
   "source": [
    "import pandas as pd\n",
    "import matplotlib.pyplot as plt\n",
    "from scipy import stats\n",
    "import numpy as np\n",
    "import matplotlib.patches as mpatches\n",
    "import numpy as np\n",
    "import seaborn as sns\n",
    "import glob\n",
    "\n",
    "from IPython.display import display, HTML\n",
    "display(HTML(\"<style>.container { width:100% !important; }</style>\"))\n",
    "\n",
    "%matplotlib inline"
   ]
  },
  {
   "cell_type": "code",
   "execution_count": 11,
   "metadata": {},
   "outputs": [
    {
     "name": "stdout",
     "output_type": "stream",
     "text": [
      "   DB  DB_date  DB_size        config\n",
      "0  NT     2022      500  uncompressed\n",
      "1  NR     2022      900  uncompressed\n",
      "2  NT     2022      300   nt-0.9-1000\n",
      "3  NR     2022      300   nt-0.9-1000\n",
      "4  NT     2023      700  uncompressed\n",
      "5  NR     2023      950  uncompressed\n",
      "6  NT     2023      350   nt-0.9-1000\n",
      "7  NR     2023      350   nt-0.9-1000\n"
     ]
    }
   ],
   "source": [
    "# Figure S4A - DB Size\n",
    "\n",
    "db_size_df = pd.read_csv(\"./data/time_space_cost/db_size.tsv\", sep='\\t')\n",
    "print(db_size_df)\n",
    "\n",
    "#db_size_df.plot(kind='boxplot')"
   ]
  },
  {
   "cell_type": "code",
   "execution_count": 13,
   "metadata": {},
   "outputs": [
    {
     "name": "stdout",
     "output_type": "stream",
     "text": [
      "           Dataset  DB       config  DB_date  runtime\n",
      "0            nycsm  nt  nt-0.9-1000     2022      120\n",
      "1             soil  nt  nt-0.9-1000     2022      141\n",
      "2        atcc_even  nt  nt-0.9-1000     2022      320\n",
      "3   atcc_staggered  nt  nt-0.9-1000     2022      320\n",
      "4              ds7  nt  nt-0.9-1000     2022       62\n",
      "5           buccal  nt  nt-0.9-1000     2022       65\n",
      "6              gut  nt  nt-0.9-1000     2022      180\n",
      "7            hous1  nt  nt-0.9-1000     2022      141\n",
      "8            hous2  nt  nt-0.9-1000     2022      111\n",
      "9        cityparks  nt  nt-0.9-1000     2022      300\n",
      "10           nycsm  nr  nt-0.9-1000     2022      150\n",
      "11            soil  nr  nt-0.9-1000     2022      183\n",
      "12       atcc_even  nr  nt-0.9-1000     2022      232\n",
      "13  atcc_staggered  nr  nt-0.9-1000     2022      200\n",
      "14             ds7  nr  nt-0.9-1000     2022       55\n",
      "15          buccal  nr  nt-0.9-1000     2022       80\n",
      "16             gut  nr  nt-0.9-1000     2022      200\n",
      "17           hous1  nr  nt-0.9-1000     2022      152\n",
      "18           hous2  nr  nt-0.9-1000     2022      123\n",
      "19       cityparks  nr  nt-0.9-1000     2022      280\n"
     ]
    }
   ],
   "source": [
    "# Figure S4B - Runtime\n",
    "\n",
    "runtime_df = pd.read_csv(\"./data/time_space_cost/runtime.tsv\", sep='\\t')\n",
    "print(runtime_df)"
   ]
  },
  {
   "cell_type": "code",
   "execution_count": null,
   "metadata": {},
   "outputs": [],
   "source": []
  }
 ],
 "metadata": {
  "kernelspec": {
   "display_name": "Python 3",
   "language": "python",
   "name": "python3"
  },
  "language_info": {
   "codemirror_mode": {
    "name": "ipython",
    "version": 3
   },
   "file_extension": ".py",
   "mimetype": "text/x-python",
   "name": "python",
   "nbconvert_exporter": "python",
   "pygments_lexer": "ipython3",
   "version": "3.8.5"
  }
 },
 "nbformat": 4,
 "nbformat_minor": 4
}
