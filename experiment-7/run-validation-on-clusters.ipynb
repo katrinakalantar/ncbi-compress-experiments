{
 "cells": [
  {
   "cell_type": "code",
   "execution_count": 115,
   "metadata": {},
   "outputs": [],
   "source": [
    "import pandas as pd\n",
    "import matplotlib.pyplot as plt\n",
    "from Bio import SeqIO\n",
    "from Bio.Seq import Seq\n",
    "from Bio.SeqRecord import SeqRecord\n",
    "from collections import Counter\n",
    "import numpy as np\n",
    "\n",
    "%matplotlib inline"
   ]
  },
  {
   "cell_type": "code",
   "execution_count": 116,
   "metadata": {},
   "outputs": [
    {
     "data": {
      "text/plain": [
       "'\\n\\nTake in logging_file_init + logging_file_tree + clusered_db + optional cluster_id\\nGenerate some statistics about the clusters (distribution of cluster sizes, avg containment in this cluster)\\nGet one cluster (by ID or at random)\\n\\nFor a particular cluster...\\nGet the .fasta files from genbank associated with all seqs\\n\\nFor each pair of removed/retained seqs...\\nOptional: align to retained seq, get metrics \\n    (how many base to N positions in retained, count of base-to-N positions in removed, of non-base-to-N positions...what percentage are matched v. mismatched)\\n\\nRemove stretches of Ns from .fasta files\\nSimulate reads\\nAlign with minimap2 to retained seq\\nAlign with minimap2 to clustered DB\\nReturn (containment of pair / percentage of reads unmapped to seq / percentage of reads unmapped to DB)\\n\\n'"
      ]
     },
     "execution_count": 116,
     "metadata": {},
     "output_type": "execute_result"
    }
   ],
   "source": [
    "'''\n",
    "\n",
    "Take in logging_file_init + logging_file_tree + clusered_db + optional cluster_id\n",
    "Generate some statistics about the clusters (distribution of cluster sizes, avg containment in this cluster)\n",
    "Get one cluster (by ID or at random)\n",
    "\n",
    "For a particular cluster...\n",
    "Get the .fasta files from genbank associated with all seqs\n",
    "\n",
    "For each pair of removed/retained seqs...\n",
    "Optional: align to retained seq, get metrics \n",
    "    (how many base to N positions in retained, count of base-to-N positions in removed, of non-base-to-N positions...what percentage are matched v. mismatched)\n",
    "\n",
    "Remove stretches of Ns from .fasta files\n",
    "Simulate reads\n",
    "Align with minimap2 to retained seq\n",
    "Align with minimap2 to clustered DB\n",
    "Return (containment of pair / percentage of reads unmapped to seq / percentage of reads unmapped to DB)\n",
    "\n",
    "'''"
   ]
  },
  {
   "cell_type": "code",
   "execution_count": 117,
   "metadata": {},
   "outputs": [],
   "source": [
    "# required parameters to specify inputs/outputs\n",
    "logging_file_init = './data/logging_contained_in_chunk.tsv'\n",
    "logging_file_tree = './data/logging_contained_in_tree.tsv'\n",
    "clustered_db = './data/nt_compressed_compressed_chkv_dump.fa'\n",
    "cluster_id = 'HM045820.1' #'OP485450.1'\n",
    "\n",
    "output_dir = './output1/' # this will contain all downloaded seqs and resulting analyses"
   ]
  },
  {
   "cell_type": "code",
   "execution_count": 118,
   "metadata": {},
   "outputs": [],
   "source": [
    "# read in the logging files\n",
    "log_init_df = pd.read_csv(logging_file_init, sep='\\t')\n",
    "log_tree_df = pd.read_csv(logging_file_tree, sep='\\t')"
   ]
  },
  {
   "cell_type": "code",
   "execution_count": 119,
   "metadata": {},
   "outputs": [
    {
     "name": "stdout",
     "output_type": "stream",
     "text": [
      "<class 'str'>\n",
      "<class 'numpy.float64'>\n",
      "no double log values found\n"
     ]
    }
   ],
   "source": [
    "# configure the logging files so that we can generate statistics on them \n",
    "\n",
    "def split_double_log_values(log_df):\n",
    "    '''\n",
    "    in cases where _retained_ is actually two (or more) entries...\n",
    "    just take the last entry and the associated containment value\n",
    "    '''\n",
    "    log_df['retained'] = [i.split(',')[-1] for i in list(log_df['retained'])]\n",
    "    print(type(log_df['containment'][0]))\n",
    "    try:\n",
    "        log_df['containment'] = [i.split(',')[-1] for i in list(log_df['containment'])]\n",
    "    except:\n",
    "        print('no double log values found')\n",
    "    log_df['containment'] = pd.to_numeric(log_df['containment'])\n",
    "    return(log_df)\n",
    "\n",
    "log_init_df = split_double_log_values(log_init_df)\n",
    "log_tree_df = split_double_log_values(log_tree_df)"
   ]
  },
  {
   "cell_type": "code",
   "execution_count": 120,
   "metadata": {},
   "outputs": [
    {
     "data": {
      "image/png": "[encoded data removed]",
      "text/plain": [
       "<Figure size 432x288 with 1 Axes>"
      ]
     },
     "metadata": {
      "needs_background": "light"
     },
     "output_type": "display_data"
    },
    {
     "data": {
      "image/png": "[encoded data removed]",
      "text/plain": [
       "<Figure size 432x288 with 1 Axes>"
      ]
     },
     "metadata": {
      "needs_background": "light"
     },
     "output_type": "display_data"
    }
   ],
   "source": [
    "# plot histogram of cluster sizes\n",
    "plt.hist(log_init_df.groupby('retained')['containment'].count())\n",
    "plt.hist(log_tree_df.groupby('retained')['containment'].count())\n",
    "plt.title(\"cluster size distribution\")\n",
    "plt.show()\n",
    "# plot histogram of containment values\n",
    "plt.hist(log_init_df.groupby('retained')['containment'].mean())\n",
    "plt.hist(log_tree_df.groupby('retained')['containment'].mean())\n",
    "plt.title(\"average per-cluster containment\")\n",
    "plt.show()"
   ]
  },
  {
   "cell_type": "code",
   "execution_count": 121,
   "metadata": {},
   "outputs": [
    {
     "data": {
      "text/plain": [
       "retained\n",
       "gi|1168909498|gb|KY703956.1|    178\n",
       "gi|1194463519|gb|KY435486.1|     93\n",
       "gi|2315911188|gb|ON142089.1|     78\n",
       "gi|1928144300|gb|MT933051.1|     77\n",
       "gi|2007118884|gb|MN954552.1|     69\n",
       "Name: containment, dtype: int64"
      ]
     },
     "execution_count": 121,
     "metadata": {},
     "output_type": "execute_result"
    }
   ],
   "source": [
    "# combine the two cluster inputs\n",
    "full_df = pd.concat([log_init_df, log_tree_df])\n",
    "all_cluster_sizes = full_df.groupby('retained')['containment'].count().sort_values(ascending=False)\n",
    "all_cluster_sizes.head()"
   ]
  },
  {
   "cell_type": "code",
   "execution_count": 122,
   "metadata": {},
   "outputs": [],
   "source": [
    "# select just one cluster to investigate (based on input)\n",
    "current_cluster_df = full_df[[cluster_id in i for i in list(full_df['retained'])]]\n",
    "\n",
    "# select just one cluaster (based on size)\n",
    "#top_cluster = str(all_cluster_sizes.head(1).index).split('|')[-2]\n",
    "#current_cluster_df = full_df[[top_cluster in i for i in list(full_df['retained'])]]"
   ]
  },
  {
   "cell_type": "code",
   "execution_count": 123,
   "metadata": {},
   "outputs": [
    {
     "name": "stderr",
     "output_type": "stream",
     "text": [
      "<ipython-input-123-150e5a9fee66>:1: SettingWithCopyWarning: \n",
      "A value is trying to be set on a copy of a slice from a DataFrame.\n",
      "Try using .loc[row_indexer,col_indexer] = value instead\n",
      "\n",
      "See the caveats in the documentation: https://pandas.pydata.org/pandas-docs/stable/user_guide/indexing.html#returning-a-view-versus-a-copy\n",
      "  current_cluster_df['seq_id'] = [i.split('|')[-2] for i in current_cluster_df['discarded']]\n"
     ]
    },
    {
     "data": {
      "text/html": [
       "<div>\n",
       "<style scoped>\n",
       "    .dataframe tbody tr th:only-of-type {\n",
       "        vertical-align: middle;\n",
       "    }\n",
       "\n",
       "    .dataframe tbody tr th {\n",
       "        vertical-align: top;\n",
       "    }\n",
       "\n",
       "    .dataframe thead th {\n",
       "        text-align: right;\n",
       "    }\n",
       "</style>\n",
       "<table border=\"1\" class=\"dataframe\">\n",
       "  <thead>\n",
       "    <tr style=\"text-align: right;\">\n",
       "      <th></th>\n",
       "      <th>discarded</th>\n",
       "      <th>retained</th>\n",
       "      <th>containment</th>\n",
       "      <th>seq_id</th>\n",
       "    </tr>\n",
       "  </thead>\n",
       "  <tbody>\n",
       "    <tr>\n",
       "      <th>2221</th>\n",
       "      <td>gi|296124579|gb|HM045819.1|</td>\n",
       "      <td>gi|296124582|gb|HM045820.1|</td>\n",
       "      <td>0.900000</td>\n",
       "      <td>HM045819.1</td>\n",
       "    </tr>\n",
       "    <tr>\n",
       "      <th>2222</th>\n",
       "      <td>gi|296124576|gb|HM045818.1|</td>\n",
       "      <td>gi|296124582|gb|HM045820.1|</td>\n",
       "      <td>0.909091</td>\n",
       "      <td>HM045818.1</td>\n",
       "    </tr>\n",
       "    <tr>\n",
       "      <th>2223</th>\n",
       "      <td>gi|296124573|gb|HM045817.1|</td>\n",
       "      <td>gi|296124582|gb|HM045820.1|</td>\n",
       "      <td>0.750000</td>\n",
       "      <td>HM045817.1</td>\n",
       "    </tr>\n",
       "    <tr>\n",
       "      <th>2224</th>\n",
       "      <td>gi|296124570|gb|HM045816.1|</td>\n",
       "      <td>gi|296124582|gb|HM045820.1|</td>\n",
       "      <td>0.600000</td>\n",
       "      <td>HM045816.1</td>\n",
       "    </tr>\n",
       "    <tr>\n",
       "      <th>2225</th>\n",
       "      <td>gi|296124567|gb|HM045815.1|</td>\n",
       "      <td>gi|296124582|gb|HM045820.1|</td>\n",
       "      <td>0.500000</td>\n",
       "      <td>HM045815.1</td>\n",
       "    </tr>\n",
       "    <tr>\n",
       "      <th>2232</th>\n",
       "      <td>gi|296124544|gb|HM045807.1|</td>\n",
       "      <td>gi|296124582|gb|HM045820.1|</td>\n",
       "      <td>0.875000</td>\n",
       "      <td>HM045807.1</td>\n",
       "    </tr>\n",
       "    <tr>\n",
       "      <th>2235</th>\n",
       "      <td>gi|296124535|gb|HM045804.1|</td>\n",
       "      <td>gi|296124582|gb|HM045820.1|</td>\n",
       "      <td>0.800000</td>\n",
       "      <td>HM045804.1</td>\n",
       "    </tr>\n",
       "    <tr>\n",
       "      <th>2241</th>\n",
       "      <td>gi|296124518|gb|HM045798.1|</td>\n",
       "      <td>gi|296124582|gb|HM045820.1|</td>\n",
       "      <td>0.571429</td>\n",
       "      <td>HM045798.1</td>\n",
       "    </tr>\n",
       "    <tr>\n",
       "      <th>2253</th>\n",
       "      <td>gi|296124483|gb|HM045786.1|</td>\n",
       "      <td>gi|296124582|gb|HM045820.1|</td>\n",
       "      <td>0.875000</td>\n",
       "      <td>HM045786.1</td>\n",
       "    </tr>\n",
       "    <tr>\n",
       "      <th>2254</th>\n",
       "      <td>gi|296124480|gb|HM045785.1|</td>\n",
       "      <td>gi|296124582|gb|HM045820.1|</td>\n",
       "      <td>0.571429</td>\n",
       "      <td>HM045785.1</td>\n",
       "    </tr>\n",
       "    <tr>\n",
       "      <th>2270</th>\n",
       "      <td>gi|52352962|gb|AY726732.1|</td>\n",
       "      <td>gi|296124582|gb|HM045820.1|</td>\n",
       "      <td>0.875000</td>\n",
       "      <td>AY726732.1</td>\n",
       "    </tr>\n",
       "  </tbody>\n",
       "</table>\n",
       "</div>"
      ],
      "text/plain": [
       "                        discarded                     retained  containment  \\\n",
       "2221  gi|296124579|gb|HM045819.1|  gi|296124582|gb|HM045820.1|     0.900000   \n",
       "2222  gi|296124576|gb|HM045818.1|  gi|296124582|gb|HM045820.1|     0.909091   \n",
       "2223  gi|296124573|gb|HM045817.1|  gi|296124582|gb|HM045820.1|     0.750000   \n",
       "2224  gi|296124570|gb|HM045816.1|  gi|296124582|gb|HM045820.1|     0.600000   \n",
       "2225  gi|296124567|gb|HM045815.1|  gi|296124582|gb|HM045820.1|     0.500000   \n",
       "2232  gi|296124544|gb|HM045807.1|  gi|296124582|gb|HM045820.1|     0.875000   \n",
       "2235  gi|296124535|gb|HM045804.1|  gi|296124582|gb|HM045820.1|     0.800000   \n",
       "2241  gi|296124518|gb|HM045798.1|  gi|296124582|gb|HM045820.1|     0.571429   \n",
       "2253  gi|296124483|gb|HM045786.1|  gi|296124582|gb|HM045820.1|     0.875000   \n",
       "2254  gi|296124480|gb|HM045785.1|  gi|296124582|gb|HM045820.1|     0.571429   \n",
       "2270   gi|52352962|gb|AY726732.1|  gi|296124582|gb|HM045820.1|     0.875000   \n",
       "\n",
       "          seq_id  \n",
       "2221  HM045819.1  \n",
       "2222  HM045818.1  \n",
       "2223  HM045817.1  \n",
       "2224  HM045816.1  \n",
       "2225  HM045815.1  \n",
       "2232  HM045807.1  \n",
       "2235  HM045804.1  \n",
       "2241  HM045798.1  \n",
       "2253  HM045786.1  \n",
       "2254  HM045785.1  \n",
       "2270  AY726732.1  "
      ]
     },
     "execution_count": 123,
     "metadata": {},
     "output_type": "execute_result"
    }
   ],
   "source": [
    "current_cluster_df['seq_id'] = [i.split('|')[-2] for i in current_cluster_df['discarded']]\n",
    "current_cluster_df"
   ]
  },
  {
   "cell_type": "code",
   "execution_count": 124,
   "metadata": {},
   "outputs": [],
   "source": [
    "# get all sequence names...\n",
    "discarded_seqs = list(set([i.split('|')[-2] for i in list(current_cluster_df['discarded'])]))\n",
    "retained_seqs = list(set([i.split('|')[-2] for i in list(current_cluster_df['retained'])]))\n",
    "all_seq_ids = {'discarded': discarded_seqs, 'retained':retained_seqs}\n",
    "all_seq_ids_list = discarded_seqs + retained_seqs"
   ]
  },
  {
   "cell_type": "code",
   "execution_count": 125,
   "metadata": {},
   "outputs": [
    {
     "data": {
      "text/plain": [
       "' # install eutils (instructions here: https://www.ncbi.nlm.nih.gov/books/NBK179288/)\\n! sh -c \"$(curl -fsSL https://ftp.ncbi.nlm.nih.gov/entrez/entrezdirect/install-edirect.sh)\"\\n! export PATH=${HOME}/edirect:${PATH} #not sure that this actually registers in the jupyter notebook\\n'"
      ]
     },
     "execution_count": 125,
     "metadata": {},
     "output_type": "execute_result"
    }
   ],
   "source": [
    "''' # install eutils (instructions here: https://www.ncbi.nlm.nih.gov/books/NBK179288/)\n",
    "! sh -c \"$(curl -fsSL https://ftp.ncbi.nlm.nih.gov/entrez/entrezdirect/install-edirect.sh)\"\n",
    "! export PATH=${HOME}/edirect:${PATH} #not sure that this actually registers in the jupyter notebook\n",
    "'''"
   ]
  },
  {
   "cell_type": "code",
   "execution_count": 126,
   "metadata": {},
   "outputs": [
    {
     "name": "stdout",
     "output_type": "stream",
     "text": [
      "mkdir: ./output1/: File exists\r\n"
     ]
    }
   ],
   "source": [
    "# create an output directory based on initial input\n",
    "! mkdir {output_dir}"
   ]
  },
  {
   "cell_type": "code",
   "execution_count": 127,
   "metadata": {},
   "outputs": [
    {
     "name": "stdout",
     "output_type": "stream",
     "text": [
      "HM045816.1\n",
      "working...\n",
      "HM045807.1\n",
      "working...\n",
      "HM045818.1\n",
      "working...\n",
      "HM045804.1\n",
      "working...\n",
      "HM045817.1\n",
      "working...\n",
      "HM045798.1\n",
      "working...\n",
      "HM045815.1\n",
      "working...\n",
      "HM045786.1\n",
      "working...\n",
      "AY726732.1\n",
      "working...\n",
      "HM045819.1\n",
      "working...\n",
      "HM045785.1\n",
      "working...\n",
      "HM045820.1\n",
      "working...\n"
     ]
    }
   ],
   "source": [
    "# Get the .fasta files from genbank associated with all seqs\n",
    "for this_seq in all_seq_ids_list:\n",
    "    print(this_seq)\n",
    "    print(\"working...\")\n",
    "    ! /Users/katrina.kalantar/edirect/esearch -db nucleotide -query {this_seq} | /Users/katrina.kalantar/edirect/efetch -format fasta > {output_dir}{this_seq}.fasta\n"
   ]
  },
  {
   "cell_type": "code",
   "execution_count": 128,
   "metadata": {},
   "outputs": [],
   "source": [
    "# OPTIONAL -- do pairwise sequence alignment and investigate the output"
   ]
  },
  {
   "cell_type": "code",
   "execution_count": null,
   "metadata": {
    "scrolled": true
   },
   "outputs": [
    {
     "name": "stdout",
     "output_type": "stream",
     "text": [
      "INFO:iss.app:Starting iss generate\n",
      "INFO:iss.app:Using kde ErrorModel\n",
      "INFO:iss.util:Stitching input files together\n",
      "INFO:iss.app:Using lognormal abundance distribution\n",
      "INFO:iss.app:Using 2 cpus for read generation\n",
      "INFO:iss.app:Generating 10000 reads\n",
      "INFO:iss.app:Generating reads for record: HM045816.1\n",
      "INFO:iss.util:Stitching input files together\n",
      "INFO:iss.util:Stitching input files together\n",
      "INFO:iss.util:Cleaning up\n",
      "INFO:iss.app:Read generation complete\n"
     ]
    }
   ],
   "source": [
    "# create the simulated files needed for alignment experiment!!\n",
    "\n",
    "for this_seq in all_seq_ids_list:\n",
    "    records = list(SeqIO.parse(output_dir + this_seq + '.fasta', \"fasta\"))\n",
    "    this_sequence = str(records[0].seq)    \n",
    "    new_record = SeqRecord(Seq(this_sequence.replace('NNNNN', '')), \n",
    "                           id=records[0].id, \n",
    "                           name=records[0].name, description=records[0].description)\n",
    "    \n",
    "    # write the new, no-Ns fasta sequence to a new file\n",
    "    noN_filename = output_dir + this_seq + 'noN.fasta'\n",
    "    SeqIO.write(new_record, noN_filename, \"fasta\")\n",
    "    \n",
    "    ! iss generate --genomes {noN_filename} --model miseq --output {output_dir + this_seq}.miseq_reads --n_reads 10000\n",
    "    "
   ]
  },
  {
   "cell_type": "code",
   "execution_count": null,
   "metadata": {},
   "outputs": [],
   "source": [
    "# run the alignment experiment for each discarded sequence and gather metrics\n",
    "\n",
    "ref_seq = output_dir + all_seq_ids['retained'][0] + '.fasta'\n",
    "\n",
    "results_dict = {}\n",
    "\n",
    "for this_seq in all_seq_ids['discarded']:\n",
    "    print(this_seq)\n",
    "    input_r1 = output_dir + this_seq + '.miseq_reads_R1.fastq'\n",
    "    input_r2 = output_dir + this_seq + '.miseq_reads_R2.fastq'\n",
    "    \n",
    "    results_dict[this_seq] = {}\n",
    "    \n",
    "    # align reads only to the retained seq\n",
    "    ! minimap2 -ax sr {ref_seq} {input_r1} {input_r2} > {output_dir + this_seq}.alnseq.sam\n",
    "    ! samtools stats {output_dir + this_seq}.alnseq.sam > {output_dir + this_seq}.alnseq.stats.txt\n",
    "    unmapped_reads_string = ! grep \"reads unmapped:\" {output_dir + this_seq}.alnseq.stats.txt\n",
    "    unmapped_reads_count = int(unmapped_reads_string[0].split(':')[-1].strip())\n",
    "    results_dict[this_seq]['seqmap'] = unmapped_reads_count\n",
    "    print(unmapped_reads_count)\n",
    "    \n",
    "    # align reads to the full clustered DB\n",
    "    ! minimap2 -ax sr {clustered_db} {input_r1} {input_r2} > {output_dir + this_seq}.alndb.sam\n",
    "    ! samtools stats {output_dir + this_seq}.alndb.sam > {output_dir + this_seq}.alndb.stats.txt\n",
    "    unmapped_reads_string = ! grep \"reads unmapped:\" {output_dir + this_seq}.alndb.stats.txt\n",
    "    unmapped_reads_count = int(unmapped_reads_string[0].split(':')[-1].strip())\n",
    "    results_dict[this_seq]['dbmap'] = unmapped_reads_count\n",
    "    print(unmapped_reads_count)\n",
    "    \n",
    "    containment = current_cluster_df[current_cluster_df.seq_id==this_seq]['containment'].iloc[0]\n",
    "    results_dict[this_seq]['containment'] = containment\n",
    "   \n",
    "    print(results_dict[this_seq])\n",
    "    print(\"\\n\\n\")\n"
   ]
  },
  {
   "cell_type": "code",
   "execution_count": null,
   "metadata": {},
   "outputs": [],
   "source": [
    "mapping_results_df = pd.DataFrame.from_dict(results_dict, orient='index')\n",
    "mapping_results_df"
   ]
  },
  {
   "cell_type": "code",
   "execution_count": null,
   "metadata": {
    "scrolled": true
   },
   "outputs": [],
   "source": [
    "ref_seq = output_dir + all_seq_ids['retained'][0] + '.fasta'\n",
    "all_results = {}\n",
    "\n",
    "for this_seq in all_seq_ids['discarded']:\n",
    "    ! cat {ref_seq} {output_dir + this_seq}.fasta > {output_dir + this_seq}.muscle.fasta\n",
    "    ! muscle -in {output_dir + this_seq}.muscle.fasta -out {output_dir + this_seq}.aln \n",
    "    \n",
    "    \n",
    "    \n",
    "    records = list(SeqIO.parse( output_dir + this_seq + \".aln\", \"fasta\"))   \n",
    "    \n",
    "    \n",
    "    seq_ref = str(records[0].seq)\n",
    "    seq_b = str(records[1].seq)\n",
    "    \n",
    "    pairs = []\n",
    "    for i in range(len(seq_ref)):\n",
    "        pairs.append(seq_ref[i] + '/' + seq_b[i])\n",
    "\n",
    "    tally = Counter(pairs)\n",
    "\n",
    "    result={}\n",
    "\n",
    "    result['ESref'] = tally['-/A'] + tally['-/C'] + tally['-/G'] + tally['-/T']\n",
    "    result['ESb'] = tally['A/-'] + tally['C/-'] + tally['G/-'] + tally['T/-']\n",
    "    result['ENref'] = tally['N/-'] \n",
    "    result['ENb'] = tally['-/N'] \n",
    "    result['Nref'] = tally['N/A'] + tally['N/C'] + tally['N/G'] + tally['N/T']\n",
    "    result['Nb'] = tally['A/N'] + tally['G/N'] + tally['C/N'] + tally['T/N']\n",
    "    result['match'] = tally['A/A'] + tally['G/G'] + tally['C/C'] + tally['T/T']\n",
    "    result['mismatch'] = tally['A/C'] + tally['A/G'] + tally['A/T'] + tally['C/A'] + tally['C/G'] + tally['C/T'] + tally['G/A'] + tally['G/C'] + tally['G/T'] + tally['T/A'] + tally['T/C'] + tally['T/G']\n",
    "    result['alignment length'] = len(seq_ref)\n",
    "    result['seq_length'] = len(seq_b.replace('-',''))\n",
    "    \n",
    "    result['pid'] = np.round(result['match'] / (result['match'] + result['mismatch'] ), 3)\n",
    "    print(result)\n",
    "    \n",
    "    all_results[this_seq] = result\n",
    "    \n",
    "    print(\"\\n\\n\")\n",
    "    "
   ]
  },
  {
   "cell_type": "code",
   "execution_count": null,
   "metadata": {},
   "outputs": [],
   "source": [
    "pairwise_results_df = pd.DataFrame.from_dict(all_results, orient='index')\n",
    "pairwise_results_df"
   ]
  },
  {
   "cell_type": "code",
   "execution_count": null,
   "metadata": {},
   "outputs": [],
   "source": [
    "joint_results_df = pd.concat([mapping_results_df, pairwise_results_df], axis=1)\n",
    "joint_results_df.sort_values(by='containment', ascending = True, inplace=True)\n",
    "joint_results_df"
   ]
  },
  {
   "cell_type": "code",
   "execution_count": null,
   "metadata": {},
   "outputs": [],
   "source": []
  }
 ],
 "metadata": {
  "kernelspec": {
   "display_name": "Python 3",
   "language": "python",
   "name": "python3"
  },
  "language_info": {
   "codemirror_mode": {
    "name": "ipython",
    "version": 3
   },
   "file_extension": ".py",
   "mimetype": "text/x-python",
   "name": "python",
   "nbconvert_exporter": "python",
   "pygments_lexer": "ipython3",
   "version": "3.8.5"
  }
 },
 "nbformat": 4,
 "nbformat_minor": 4
}
