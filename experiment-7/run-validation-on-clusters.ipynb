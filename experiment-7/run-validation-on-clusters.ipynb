{
 "cells": [
  {
   "cell_type": "code",
   "execution_count": 213,
   "metadata": {},
   "outputs": [],
   "source": [
    "import pandas as pd\n",
    "import matplotlib.pyplot as plt\n",
    "from Bio import SeqIO\n",
    "from Bio.Seq import Seq\n",
    "from Bio.SeqRecord import SeqRecord\n",
    "from collections import Counter\n",
    "import numpy as np\n",
    "import matplotlib.patches as mpatches\n",
    "\n",
    "%matplotlib inline"
   ]
  },
  {
   "cell_type": "code",
   "execution_count": 214,
   "metadata": {},
   "outputs": [
    {
     "data": {
      "text/plain": [
       "'\\n\\nTake in logging_file_init + logging_file_tree + clusered_db + optional cluster_id\\nGenerate some statistics about the clusters (distribution of cluster sizes, avg containment in this cluster)\\nGet one cluster (by ID or at random)\\n\\nFor a particular cluster...\\nGet the .fasta files from genbank associated with all seqs\\n\\nFor each pair of removed/retained seqs...\\nRemove stretches of Ns from .fasta files\\nSimulate reads\\nAlign with minimap2 to retained seq\\nAlign with minimap2 to clustered DB\\nReturn (containment of pair / percentage of reads unmapped to seq / percentage of reads unmapped to DB)\\n\\nOptional: align to retained seq, get metrics \\n    (how many base to N positions in retained, count of base-to-N positions in removed, of non-base-to-N positions...what percentage are matched v. mismatched)\\n\\n\\n'"
      ]
     },
     "execution_count": 214,
     "metadata": {},
     "output_type": "execute_result"
    }
   ],
   "source": [
    "'''\n",
    "\n",
    "Take in logging_file_init + logging_file_tree + clusered_db + optional cluster_id\n",
    "Generate some statistics about the clusters (distribution of cluster sizes, avg containment in this cluster)\n",
    "Get one cluster (by ID or at random)\n",
    "\n",
    "For a particular cluster...\n",
    "Get the .fasta files from genbank associated with all seqs\n",
    "\n",
    "For each pair of removed/retained seqs...\n",
    "Remove stretches of Ns from .fasta files\n",
    "Simulate reads\n",
    "Align with minimap2 to retained seq\n",
    "Align with minimap2 to clustered DB\n",
    "Return (containment of pair / percentage of reads unmapped to seq / percentage of reads unmapped to DB)\n",
    "\n",
    "Optional: align to retained seq, get metrics \n",
    "    (how many base to N positions in retained, count of base-to-N positions in removed, of non-base-to-N positions...what percentage are matched v. mismatched)\n",
    "\n",
    "\n",
    "'''"
   ]
  },
  {
   "cell_type": "code",
   "execution_count": 215,
   "metadata": {},
   "outputs": [],
   "source": [
    "# required parameters to specify inputs/outputs\n",
    "logging_file_init = './data/logging_contained_in_chunk_rhino.tsv' #'./data/logging_contained_in_chunk_chkv.tsv'\n",
    "logging_file_tree = './data/logging_contained_in_tree_rhino.tsv' #'./data/logging_contained_in_tree_chkv.tsv'\n",
    "clustered_db = './data/nt_compressed_compressed_rhino_dump.fa' #'./data/nt_compressed_compressed_chkv_dump.fa'\n",
    "#cluster_id = #'ON023526.1' #'HM045820.1' #'OP485450.1' #chkv clusters\n",
    "cluster_id = 'JQ837720.1' #'MZ629115.1'\n",
    "\n",
    "output_dir = './output1/' # this will contain all downloaded seqs and resulting analyses"
   ]
  },
  {
   "cell_type": "code",
   "execution_count": 216,
   "metadata": {},
   "outputs": [],
   "source": [
    "# read in the logging files\n",
    "log_init_df = pd.read_csv(logging_file_init, sep='\\t')\n",
    "log_tree_df = pd.read_csv(logging_file_tree, sep='\\t')"
   ]
  },
  {
   "cell_type": "code",
   "execution_count": 217,
   "metadata": {},
   "outputs": [
    {
     "name": "stdout",
     "output_type": "stream",
     "text": [
      "<class 'str'>\n",
      "<class 'numpy.float64'>\n",
      "no double log values found\n"
     ]
    }
   ],
   "source": [
    "# configure the logging files so that we can generate statistics on them \n",
    "\n",
    "def split_double_log_values(log_df):\n",
    "    '''\n",
    "    in cases where _retained_ is actually two (or more) entries...\n",
    "    just take the last entry and the associated containment value\n",
    "    '''\n",
    "    log_df['retained'] = [i.split(',')[-1] for i in list(log_df['retained'])]\n",
    "    print(type(log_df['containment'][0]))\n",
    "    try:\n",
    "        log_df['containment'] = [i.split(',')[-1] for i in list(log_df['containment'])]\n",
    "    except:\n",
    "        print('no double log values found')\n",
    "    log_df['containment'] = pd.to_numeric(log_df['containment'])\n",
    "    return(log_df)\n",
    "\n",
    "log_init_df = split_double_log_values(log_init_df)\n",
    "log_tree_df = split_double_log_values(log_tree_df)"
   ]
  },
  {
   "cell_type": "code",
   "execution_count": 218,
   "metadata": {},
   "outputs": [
    {
     "data": {
      "image/png": "[encoded data removed]",
      "text/plain": [
       "<Figure size 432x288 with 1 Axes>"
      ]
     },
     "metadata": {
      "needs_background": "light"
     },
     "output_type": "display_data"
    },
    {
     "data": {
      "image/png": "[encoded data removed]",
      "text/plain": [
       "<Figure size 432x288 with 1 Axes>"
      ]
     },
     "metadata": {
      "needs_background": "light"
     },
     "output_type": "display_data"
    }
   ],
   "source": [
    "# plot histogram of cluster sizes\n",
    "plt.hist(log_init_df.groupby('retained')['containment'].count())\n",
    "plt.hist(log_tree_df.groupby('retained')['containment'].count())\n",
    "plt.title(\"cluster size distribution\")\n",
    "plt.show()\n",
    "# plot histogram of containment values\n",
    "plt.hist(log_init_df.groupby('retained')['containment'].mean())\n",
    "plt.hist(log_tree_df.groupby('retained')['containment'].mean())\n",
    "plt.title(\"average per-cluster containment\")\n",
    "plt.show()"
   ]
  },
  {
   "cell_type": "code",
   "execution_count": 241,
   "metadata": {},
   "outputs": [
    {
     "data": {
      "text/plain": [
       "retained\n",
       "MH460228.1    29\n",
       "OK017923.1    28\n",
       "MZ460700.1    25\n",
       "KX831274.1    23\n",
       "LC591789.1    20\n",
       "Name: containment, dtype: int64"
      ]
     },
     "execution_count": 241,
     "metadata": {},
     "output_type": "execute_result"
    }
   ],
   "source": [
    "# combine the two cluster inputs\n",
    "full_df = pd.concat([log_init_df, log_tree_df])\n",
    "all_cluster_sizes = full_df.groupby('retained')['containment'].count()\n",
    "all_cluster_mean_containment = full_df.groupby('retained')['containment'].mean()\n",
    "all_cluster_sizes_sorted = all_cluster_sizes.sort_values(ascending = False)\n",
    "all_cluster_sizes_sorted.head()"
   ]
  },
  {
   "cell_type": "code",
   "execution_count": null,
   "metadata": {},
   "outputs": [],
   "source": [
    "# plot to evaluate relationships between mean containment and cluster size \n",
    "# conclusion: most of the clusters with really low mean containment have just a few members in them \n",
    "plt.scatter(all_cluster_sizes, all_cluster_mean_containment, alpha = .5)\n",
    "plt.title(\"relationship between mean containment and cluster size\")\n",
    "plt.xlabel(\"cluster size\")\n",
    "plt.ylabel(\"mean containment\")\n",
    "plt.show()"
   ]
  },
  {
   "cell_type": "code",
   "execution_count": 220,
   "metadata": {},
   "outputs": [],
   "source": [
    "# select just one cluster to investigate (based on input)\n",
    "current_cluster_df = full_df[[cluster_id in i for i in list(full_df['retained'])]]\n",
    "\n",
    "# select just one cluaster (based on size)\n",
    "#top_cluster = str(all_cluster_sizes.head(1).index).split('|')[-2]\n",
    "#current_cluster_df = full_df[[top_cluster in i for i in list(full_df['retained'])]]\n",
    "\n",
    "# select the cluster with the lowest mean containment \n",
    "#lowest_containment_cluster = full_df.groupby('retained')['containment'].mean().sort_values().head(1).index[0]\n",
    "#current_cluster_df = full_df[[lowest_containment_cluster in i for i in list(full_df['retained'])]]"
   ]
  },
  {
   "cell_type": "code",
   "execution_count": 221,
   "metadata": {},
   "outputs": [
    {
     "data": {
      "text/plain": [
       "retained\n",
       "KY369882.1    0.400000\n",
       "MK989754.1    0.428571\n",
       "JQ837720.1    0.472222\n",
       "KF970869.1    0.500000\n",
       "LC004831.1    0.500000\n",
       "                ...   \n",
       "KU237122.1    1.000000\n",
       "KU237072.1    1.000000\n",
       "KU237062.1    1.000000\n",
       "KY006420.1    1.000000\n",
       "OQ331222.1    1.000000\n",
       "Name: containment, Length: 613, dtype: float64"
      ]
     },
     "execution_count": 221,
     "metadata": {},
     "output_type": "execute_result"
    }
   ],
   "source": [
    "full_df.groupby('retained')['containment'].mean().sort_values()"
   ]
  },
  {
   "cell_type": "code",
   "execution_count": 222,
   "metadata": {},
   "outputs": [
    {
     "name": "stderr",
     "output_type": "stream",
     "text": [
      "<ipython-input-222-4c1c7484fb2b>:7: SettingWithCopyWarning: \n",
      "A value is trying to be set on a copy of a slice from a DataFrame.\n",
      "Try using .loc[row_indexer,col_indexer] = value instead\n",
      "\n",
      "See the caveats in the documentation: https://pandas.pydata.org/pandas-docs/stable/user_guide/indexing.html#returning-a-view-versus-a-copy\n",
      "  current_cluster_df['seq_id'] = [i for i in current_cluster_df['discarded']]\n"
     ]
    },
    {
     "data": {
      "text/html": [
       "<div>\n",
       "<style scoped>\n",
       "    .dataframe tbody tr th:only-of-type {\n",
       "        vertical-align: middle;\n",
       "    }\n",
       "\n",
       "    .dataframe tbody tr th {\n",
       "        vertical-align: top;\n",
       "    }\n",
       "\n",
       "    .dataframe thead th {\n",
       "        text-align: right;\n",
       "    }\n",
       "</style>\n",
       "<table border=\"1\" class=\"dataframe\">\n",
       "  <thead>\n",
       "    <tr style=\"text-align: right;\">\n",
       "      <th></th>\n",
       "      <th>discarded</th>\n",
       "      <th>retained</th>\n",
       "      <th>containment</th>\n",
       "      <th>seq_id</th>\n",
       "    </tr>\n",
       "  </thead>\n",
       "  <tbody>\n",
       "    <tr>\n",
       "      <th>1222</th>\n",
       "      <td>JN815244.1</td>\n",
       "      <td>JQ837720.1</td>\n",
       "      <td>0.444444</td>\n",
       "      <td>JN815244.1</td>\n",
       "    </tr>\n",
       "    <tr>\n",
       "      <th>1223</th>\n",
       "      <td>JN815240.1</td>\n",
       "      <td>JQ837720.1</td>\n",
       "      <td>0.500000</td>\n",
       "      <td>JN815240.1</td>\n",
       "    </tr>\n",
       "  </tbody>\n",
       "</table>\n",
       "</div>"
      ],
      "text/plain": [
       "       discarded    retained  containment      seq_id\n",
       "1222  JN815244.1  JQ837720.1     0.444444  JN815244.1\n",
       "1223  JN815240.1  JQ837720.1     0.500000  JN815240.1"
      ]
     },
     "execution_count": 222,
     "metadata": {},
     "output_type": "execute_result"
    }
   ],
   "source": [
    "# NOTE: keep an eye here based on log file structure! may need to modify this\n",
    "try: \n",
    "    # this is necessary given header structure for CHKV log\n",
    "    current_cluster_df['seq_id'] = [i.split('|')[-2] for i in current_cluster_df['discarded']]\n",
    "except: \n",
    "    # rhinovirus header structure differed, so this works for that case\n",
    "    current_cluster_df['seq_id'] = [i for i in current_cluster_df['discarded']]\n",
    "current_cluster_df"
   ]
  },
  {
   "cell_type": "code",
   "execution_count": 223,
   "metadata": {},
   "outputs": [],
   "source": [
    "# NOTE: keep an eye here based on log file structure! may need to modify this\n",
    "\n",
    "\n",
    "# get all sequence names...\n",
    "try:\n",
    "    discarded_seqs = list(set([i.split('|')[-2] for i in list(current_cluster_df['discarded'])]))\n",
    "    retained_seqs = list(set([i.split('|')[-2] for i in list(current_cluster_df['retained'])]))\n",
    "except:\n",
    "    discarded_seqs = list(set([i for i in list(current_cluster_df['discarded'])]))\n",
    "    retained_seqs = list(set([i for i in list(current_cluster_df['retained'])]))\n",
    "all_seq_ids = {'discarded': discarded_seqs, 'retained':retained_seqs}\n",
    "all_seq_ids_list = discarded_seqs + retained_seqs"
   ]
  },
  {
   "cell_type": "code",
   "execution_count": 224,
   "metadata": {},
   "outputs": [
    {
     "data": {
      "text/plain": [
       "' # install eutils (instructions here: https://www.ncbi.nlm.nih.gov/books/NBK179288/)\\n! sh -c \"$(curl -fsSL https://ftp.ncbi.nlm.nih.gov/entrez/entrezdirect/install-edirect.sh)\"\\n! export PATH=${HOME}/edirect:${PATH} #not sure that this actually registers in the jupyter notebook\\n'"
      ]
     },
     "execution_count": 224,
     "metadata": {},
     "output_type": "execute_result"
    }
   ],
   "source": [
    "''' # install eutils (instructions here: https://www.ncbi.nlm.nih.gov/books/NBK179288/)\n",
    "! sh -c \"$(curl -fsSL https://ftp.ncbi.nlm.nih.gov/entrez/entrezdirect/install-edirect.sh)\"\n",
    "! export PATH=${HOME}/edirect:${PATH} #not sure that this actually registers in the jupyter notebook\n",
    "'''"
   ]
  },
  {
   "cell_type": "code",
   "execution_count": 225,
   "metadata": {},
   "outputs": [
    {
     "name": "stdout",
     "output_type": "stream",
     "text": [
      "mkdir: ./output1/: File exists\r\n"
     ]
    }
   ],
   "source": [
    "# create an output directory based on initial input\n",
    "! mkdir {output_dir}"
   ]
  },
  {
   "cell_type": "code",
   "execution_count": 226,
   "metadata": {},
   "outputs": [
    {
     "name": "stdout",
     "output_type": "stream",
     "text": [
      "JN815244.1\n",
      "working...\n",
      "JN815240.1\n",
      "working...\n",
      "JQ837720.1\n",
      "working...\n"
     ]
    }
   ],
   "source": [
    "# Get the .fasta files from genbank associated with all seqs\n",
    "for this_seq in all_seq_ids_list:\n",
    "    print(this_seq)\n",
    "    print(\"working...\")\n",
    "    ! /Users/katrina.kalantar/edirect/esearch -db nucleotide -query {this_seq} | /Users/katrina.kalantar/edirect/efetch -format fasta > {output_dir}{this_seq}.fasta\n"
   ]
  },
  {
   "cell_type": "code",
   "execution_count": 227,
   "metadata": {
    "scrolled": true
   },
   "outputs": [
    {
     "name": "stdout",
     "output_type": "stream",
     "text": [
      "INFO:iss.app:Starting iss generate\n",
      "INFO:iss.app:Using kde ErrorModel\n",
      "INFO:iss.util:Stitching input files together\n",
      "INFO:iss.app:Using lognormal abundance distribution\n",
      "INFO:iss.app:Using 2 cpus for read generation\n",
      "INFO:iss.app:Generating 10000 reads\n",
      "INFO:iss.app:Generating reads for record: JN815244.1\n",
      "INFO:iss.util:Stitching input files together\n",
      "INFO:iss.util:Stitching input files together\n",
      "INFO:iss.util:Cleaning up\n",
      "INFO:iss.app:Read generation complete\n",
      "INFO:iss.app:Starting iss generate\n",
      "INFO:iss.app:Using kde ErrorModel\n",
      "INFO:iss.util:Stitching input files together\n",
      "INFO:iss.app:Using lognormal abundance distribution\n",
      "INFO:iss.app:Using 2 cpus for read generation\n",
      "INFO:iss.app:Generating 10000 reads\n",
      "INFO:iss.app:Generating reads for record: JN815240.1\n",
      "INFO:iss.util:Stitching input files together\n",
      "INFO:iss.util:Stitching input files together\n",
      "INFO:iss.util:Cleaning up\n",
      "INFO:iss.app:Read generation complete\n",
      "INFO:iss.app:Starting iss generate\n",
      "INFO:iss.app:Using kde ErrorModel\n",
      "INFO:iss.util:Stitching input files together\n",
      "INFO:iss.app:Using lognormal abundance distribution\n",
      "INFO:iss.app:Using 2 cpus for read generation\n",
      "INFO:iss.app:Generating 10000 reads\n",
      "INFO:iss.app:Generating reads for record: JQ837720.1\n",
      "INFO:iss.util:Stitching input files together\n",
      "INFO:iss.util:Stitching input files together\n",
      "INFO:iss.util:Cleaning up\n",
      "INFO:iss.app:Read generation complete\n"
     ]
    }
   ],
   "source": [
    "# create the simulated files needed for alignment experiment!!\n",
    "\n",
    "for this_seq in all_seq_ids_list:\n",
    "    records = list(SeqIO.parse(output_dir + this_seq + '.fasta', \"fasta\"))\n",
    "    this_sequence = str(records[0].seq)    \n",
    "    new_record = SeqRecord(Seq(this_sequence.replace('NNNNN', '')), \n",
    "                           id=records[0].id, \n",
    "                           name=records[0].name, description=records[0].description)\n",
    "    \n",
    "    # write the new, no-Ns fasta sequence to a new file\n",
    "    noN_filename = output_dir + this_seq + 'noN.fasta'\n",
    "    SeqIO.write(new_record, noN_filename, \"fasta\")\n",
    "    \n",
    "    ! iss generate --genomes {noN_filename} --model miseq --output {output_dir + this_seq}.miseq_reads --n_reads 10000\n",
    "    "
   ]
  },
  {
   "cell_type": "code",
   "execution_count": 228,
   "metadata": {},
   "outputs": [
    {
     "name": "stdout",
     "output_type": "stream",
     "text": [
      "JN815244.1\n",
      "[M::mm_idx_gen::0.001*21.56] collected minimizers\n",
      "[M::mm_idx_gen::0.002*12.79] sorted minimizers\n",
      "[M::main::0.002*12.50] loaded/built the index for 1 target sequence(s)\n",
      "[M::mm_mapopt_update::0.002*12.46] mid_occ = 1000\n",
      "[M::mm_idx_stat] kmer size: 21; skip: 11; is_hpc: 0; #seq: 1\n",
      "[M::mm_idx_stat::0.002*11.87] distinct minimizers: 1016 (100.00% are singletons); average occurrences: 1.000; average spacing: 6.651; total length: 6757\n",
      "[M::worker_pipeline::0.159*2.51] mapped 10000 sequences\n",
      "[M::main] Version: 2.22-r1101\n",
      "[M::main] CMD: minimap2 -ax sr ./output1/JQ837720.1.fasta ./output1/JN815244.1.miseq_reads_R1.fastq ./output1/JN815244.1.miseq_reads_R2.fastq\n",
      "[M::main] Real time: 0.160 sec; CPU: 0.400 sec; Peak RSS: 0.010 GB\n",
      "436\n",
      "[ERROR] failed to open file './data/nt_compressed_compressed_rhino_dump.fa': No such file or directory\n",
      "0\n",
      "{'seqmap': 436, 'dbmap': 0, 'containment': 0.4444444444444444}\n",
      "\n",
      "\n",
      "\n",
      "JN815240.1\n",
      "[M::mm_idx_gen::0.001*19.94] collected minimizers\n",
      "[M::mm_idx_gen::0.002*13.31] sorted minimizers\n",
      "[M::main::0.002*12.95] loaded/built the index for 1 target sequence(s)\n",
      "[M::mm_mapopt_update::0.002*12.91] mid_occ = 1000\n",
      "[M::mm_idx_stat] kmer size: 21; skip: 11; is_hpc: 0; #seq: 1\n",
      "[M::mm_idx_stat::0.002*12.20] distinct minimizers: 1016 (100.00% are singletons); average occurrences: 1.000; average spacing: 6.651; total length: 6757\n",
      "[M::worker_pipeline::0.172*2.52] mapped 10000 sequences\n",
      "[M::main] Version: 2.22-r1101\n",
      "[M::main] CMD: minimap2 -ax sr ./output1/JQ837720.1.fasta ./output1/JN815240.1.miseq_reads_R1.fastq ./output1/JN815240.1.miseq_reads_R2.fastq\n",
      "[M::main] Real time: 0.173 sec; CPU: 0.436 sec; Peak RSS: 0.010 GB\n",
      "518\n",
      "[ERROR] failed to open file './data/nt_compressed_compressed_rhino_dump.fa': No such file or directory\n",
      "0\n",
      "{'seqmap': 518, 'dbmap': 0, 'containment': 0.5}\n",
      "\n",
      "\n",
      "\n"
     ]
    }
   ],
   "source": [
    "# run the alignment experiment for each discarded sequence and gather metrics\n",
    "\n",
    "ref_seq = output_dir + all_seq_ids['retained'][0] + '.fasta'\n",
    "\n",
    "results_dict = {}\n",
    "\n",
    "for this_seq in all_seq_ids['discarded']:\n",
    "    print(this_seq)\n",
    "    input_r1 = output_dir + this_seq + '.miseq_reads_R1.fastq'\n",
    "    input_r2 = output_dir + this_seq + '.miseq_reads_R2.fastq'\n",
    "    \n",
    "    results_dict[this_seq] = {}\n",
    "    \n",
    "    # align reads only to the retained seq\n",
    "    ! minimap2 -ax sr {ref_seq} {input_r1} {input_r2} > {output_dir + this_seq}.alnseq.sam\n",
    "    ! samtools stats {output_dir + this_seq}.alnseq.sam > {output_dir + this_seq}.alnseq.stats.txt\n",
    "    unmapped_reads_string = ! grep \"reads unmapped:\" {output_dir + this_seq}.alnseq.stats.txt\n",
    "    unmapped_reads_count = int(unmapped_reads_string[0].split(':')[-1].strip())\n",
    "    results_dict[this_seq]['seqmap'] = unmapped_reads_count\n",
    "    print(unmapped_reads_count)\n",
    "    \n",
    "    # align reads to the full clustered DB\n",
    "    ! minimap2 -ax sr {clustered_db} {input_r1} {input_r2} > {output_dir + this_seq}.alndb.sam\n",
    "    ! samtools stats {output_dir + this_seq}.alndb.sam > {output_dir + this_seq}.alndb.stats.txt\n",
    "    unmapped_reads_string = ! grep \"reads unmapped:\" {output_dir + this_seq}.alndb.stats.txt\n",
    "    unmapped_reads_count = int(unmapped_reads_string[0].split(':')[-1].strip())\n",
    "    results_dict[this_seq]['dbmap'] = unmapped_reads_count\n",
    "    print(unmapped_reads_count)\n",
    "    \n",
    "    containment = current_cluster_df[current_cluster_df.seq_id==this_seq]['containment'].iloc[0]\n",
    "    results_dict[this_seq]['containment'] = containment\n",
    "   \n",
    "    print(results_dict[this_seq])\n",
    "    print(\"\\n\\n\")\n"
   ]
  },
  {
   "cell_type": "code",
   "execution_count": 229,
   "metadata": {},
   "outputs": [
    {
     "data": {
      "text/html": [
       "<div>\n",
       "<style scoped>\n",
       "    .dataframe tbody tr th:only-of-type {\n",
       "        vertical-align: middle;\n",
       "    }\n",
       "\n",
       "    .dataframe tbody tr th {\n",
       "        vertical-align: top;\n",
       "    }\n",
       "\n",
       "    .dataframe thead th {\n",
       "        text-align: right;\n",
       "    }\n",
       "</style>\n",
       "<table border=\"1\" class=\"dataframe\">\n",
       "  <thead>\n",
       "    <tr style=\"text-align: right;\">\n",
       "      <th></th>\n",
       "      <th>seqmap</th>\n",
       "      <th>dbmap</th>\n",
       "      <th>containment</th>\n",
       "    </tr>\n",
       "  </thead>\n",
       "  <tbody>\n",
       "    <tr>\n",
       "      <th>JN815244.1</th>\n",
       "      <td>436</td>\n",
       "      <td>0</td>\n",
       "      <td>0.444444</td>\n",
       "    </tr>\n",
       "    <tr>\n",
       "      <th>JN815240.1</th>\n",
       "      <td>518</td>\n",
       "      <td>0</td>\n",
       "      <td>0.500000</td>\n",
       "    </tr>\n",
       "  </tbody>\n",
       "</table>\n",
       "</div>"
      ],
      "text/plain": [
       "            seqmap  dbmap  containment\n",
       "JN815244.1     436      0     0.444444\n",
       "JN815240.1     518      0     0.500000"
      ]
     },
     "execution_count": 229,
     "metadata": {},
     "output_type": "execute_result"
    }
   ],
   "source": [
    "mapping_results_df = pd.DataFrame.from_dict(results_dict, orient='index')\n",
    "mapping_results_df"
   ]
  },
  {
   "cell_type": "code",
   "execution_count": 230,
   "metadata": {
    "scrolled": true
   },
   "outputs": [
    {
     "name": "stdout",
     "output_type": "stream",
     "text": [
      "\n",
      "MUSCLE v3.8.1551 by Robert C. Edgar\n",
      "\n",
      "http://www.drive5.com/muscle\n",
      "This software is donated to the public domain.\n",
      "Please cite: Edgar, R.C. Nucleic Acids Res 32(5), 1792-97.\n",
      "\n",
      "JN815244.1.muscle 2 seqs, lengths min 6757, max 6911, avg 6834\n",
      "00:00:00      1 MB(0%)  Iter   1  100.00%  K-mer dist pass 1\n",
      "00:00:00      1 MB(0%)  Iter   1  100.00%  K-mer dist pass 2\n",
      "00:00:01     63 MB(0%)  Iter   1  100.00%  Align node       \n",
      "00:00:01     63 MB(0%)  Iter   1  100.00%  Root alignment\n",
      "{'ESref': 181, 'ESb': 169, 'ENref': 418, 'ENb': 560, 'Nref': 15, 'Nb': 230, 'match': 5653, 'mismatch': 272, 'alignment length': 7498, 'seq_length': 6911, 'pid': 0.954}\n",
      "\n",
      "\n",
      "\n",
      "\n",
      "MUSCLE v3.8.1551 by Robert C. Edgar\n",
      "\n",
      "http://www.drive5.com/muscle\n",
      "This software is donated to the public domain.\n",
      "Please cite: Edgar, R.C. Nucleic Acids Res 32(5), 1792-97.\n",
      "\n",
      "JN815240.1.muscle 2 seqs, lengths min 6757, max 6794, avg 6775\n",
      "00:00:00      1 MB(0%)  Iter   1  100.00%  K-mer dist pass 1\n",
      "00:00:00      1 MB(0%)  Iter   1  100.00%  K-mer dist pass 2\n",
      "00:00:00     63 MB(0%)  Iter   1  100.00%  Align node       \n",
      "00:00:00     63 MB(0%)  Iter   1  100.00%  Root alignment\n",
      "{'ESref': 75, 'ESb': 129, 'ENref': 11, 'ENb': 102, 'Nref': 422, 'Nb': 0, 'match': 6005, 'mismatch': 190, 'alignment length': 6934, 'seq_length': 6794, 'pid': 0.969}\n",
      "\n",
      "\n",
      "\n"
     ]
    }
   ],
   "source": [
    "# OPTIONAL -- do pairwise sequence alignment and investigate the output\n",
    "\n",
    "ref_seq = output_dir + all_seq_ids['retained'][0] + '.fasta'\n",
    "all_results = {}\n",
    "\n",
    "for this_seq in all_seq_ids['discarded']:\n",
    "    ! cat {ref_seq} {output_dir + this_seq}.fasta > {output_dir + this_seq}.muscle.fasta\n",
    "    ! muscle -in {output_dir + this_seq}.muscle.fasta -out {output_dir + this_seq}.aln \n",
    "    \n",
    "    \n",
    "    \n",
    "    records = list(SeqIO.parse( output_dir + this_seq + \".aln\", \"fasta\"))   \n",
    "    \n",
    "    \n",
    "    seq_ref = str(records[0].seq)\n",
    "    seq_b = str(records[1].seq)\n",
    "    \n",
    "    pairs = []\n",
    "    for i in range(len(seq_ref)):\n",
    "        pairs.append(seq_ref[i] + '/' + seq_b[i])\n",
    "\n",
    "    tally = Counter(pairs)\n",
    "\n",
    "    result={}\n",
    "\n",
    "    result['ESref'] = tally['-/A'] + tally['-/C'] + tally['-/G'] + tally['-/T']\n",
    "    result['ESb'] = tally['A/-'] + tally['C/-'] + tally['G/-'] + tally['T/-']\n",
    "    result['ENref'] = tally['N/-'] \n",
    "    result['ENb'] = tally['-/N'] \n",
    "    result['Nref'] = tally['N/A'] + tally['N/C'] + tally['N/G'] + tally['N/T']\n",
    "    result['Nb'] = tally['A/N'] + tally['G/N'] + tally['C/N'] + tally['T/N']\n",
    "    result['match'] = tally['A/A'] + tally['G/G'] + tally['C/C'] + tally['T/T']\n",
    "    result['mismatch'] = tally['A/C'] + tally['A/G'] + tally['A/T'] + tally['C/A'] + tally['C/G'] + tally['C/T'] + tally['G/A'] + tally['G/C'] + tally['G/T'] + tally['T/A'] + tally['T/C'] + tally['T/G']\n",
    "    result['alignment length'] = len(seq_ref)\n",
    "    result['seq_length'] = len(seq_b.replace('-',''))\n",
    "    \n",
    "    result['pid'] = np.round(result['match'] / (result['match'] + result['mismatch'] ), 3)\n",
    "    print(result)\n",
    "    \n",
    "    all_results[this_seq] = result\n",
    "    \n",
    "    print(\"\\n\\n\")\n",
    "    "
   ]
  },
  {
   "cell_type": "code",
   "execution_count": 231,
   "metadata": {},
   "outputs": [
    {
     "data": {
      "text/html": [
       "<div>\n",
       "<style scoped>\n",
       "    .dataframe tbody tr th:only-of-type {\n",
       "        vertical-align: middle;\n",
       "    }\n",
       "\n",
       "    .dataframe tbody tr th {\n",
       "        vertical-align: top;\n",
       "    }\n",
       "\n",
       "    .dataframe thead th {\n",
       "        text-align: right;\n",
       "    }\n",
       "</style>\n",
       "<table border=\"1\" class=\"dataframe\">\n",
       "  <thead>\n",
       "    <tr style=\"text-align: right;\">\n",
       "      <th></th>\n",
       "      <th>ESref</th>\n",
       "      <th>ESb</th>\n",
       "      <th>ENref</th>\n",
       "      <th>ENb</th>\n",
       "      <th>Nref</th>\n",
       "      <th>Nb</th>\n",
       "      <th>match</th>\n",
       "      <th>mismatch</th>\n",
       "      <th>alignment length</th>\n",
       "      <th>seq_length</th>\n",
       "      <th>pid</th>\n",
       "    </tr>\n",
       "  </thead>\n",
       "  <tbody>\n",
       "    <tr>\n",
       "      <th>JN815244.1</th>\n",
       "      <td>181</td>\n",
       "      <td>169</td>\n",
       "      <td>418</td>\n",
       "      <td>560</td>\n",
       "      <td>15</td>\n",
       "      <td>230</td>\n",
       "      <td>5653</td>\n",
       "      <td>272</td>\n",
       "      <td>7498</td>\n",
       "      <td>6911</td>\n",
       "      <td>0.954</td>\n",
       "    </tr>\n",
       "    <tr>\n",
       "      <th>JN815240.1</th>\n",
       "      <td>75</td>\n",
       "      <td>129</td>\n",
       "      <td>11</td>\n",
       "      <td>102</td>\n",
       "      <td>422</td>\n",
       "      <td>0</td>\n",
       "      <td>6005</td>\n",
       "      <td>190</td>\n",
       "      <td>6934</td>\n",
       "      <td>6794</td>\n",
       "      <td>0.969</td>\n",
       "    </tr>\n",
       "  </tbody>\n",
       "</table>\n",
       "</div>"
      ],
      "text/plain": [
       "            ESref  ESb  ENref  ENb  Nref   Nb  match  mismatch  \\\n",
       "JN815244.1    181  169    418  560    15  230   5653       272   \n",
       "JN815240.1     75  129     11  102   422    0   6005       190   \n",
       "\n",
       "            alignment length  seq_length    pid  \n",
       "JN815244.1              7498        6911  0.954  \n",
       "JN815240.1              6934        6794  0.969  "
      ]
     },
     "execution_count": 231,
     "metadata": {},
     "output_type": "execute_result"
    }
   ],
   "source": [
    "pairwise_results_df = pd.DataFrame.from_dict(all_results, orient='index')\n",
    "pairwise_results_df"
   ]
  },
  {
   "cell_type": "code",
   "execution_count": 232,
   "metadata": {},
   "outputs": [
    {
     "data": {
      "text/html": [
       "<div>\n",
       "<style scoped>\n",
       "    .dataframe tbody tr th:only-of-type {\n",
       "        vertical-align: middle;\n",
       "    }\n",
       "\n",
       "    .dataframe tbody tr th {\n",
       "        vertical-align: top;\n",
       "    }\n",
       "\n",
       "    .dataframe thead th {\n",
       "        text-align: right;\n",
       "    }\n",
       "</style>\n",
       "<table border=\"1\" class=\"dataframe\">\n",
       "  <thead>\n",
       "    <tr style=\"text-align: right;\">\n",
       "      <th></th>\n",
       "      <th>seqmap</th>\n",
       "      <th>dbmap</th>\n",
       "      <th>containment</th>\n",
       "      <th>ESref</th>\n",
       "      <th>ESb</th>\n",
       "      <th>ENref</th>\n",
       "      <th>ENb</th>\n",
       "      <th>Nref</th>\n",
       "      <th>Nb</th>\n",
       "      <th>match</th>\n",
       "      <th>mismatch</th>\n",
       "      <th>alignment length</th>\n",
       "      <th>seq_length</th>\n",
       "      <th>pid</th>\n",
       "    </tr>\n",
       "  </thead>\n",
       "  <tbody>\n",
       "    <tr>\n",
       "      <th>JN815244.1</th>\n",
       "      <td>436</td>\n",
       "      <td>0</td>\n",
       "      <td>0.444444</td>\n",
       "      <td>181</td>\n",
       "      <td>169</td>\n",
       "      <td>418</td>\n",
       "      <td>560</td>\n",
       "      <td>15</td>\n",
       "      <td>230</td>\n",
       "      <td>5653</td>\n",
       "      <td>272</td>\n",
       "      <td>7498</td>\n",
       "      <td>6911</td>\n",
       "      <td>0.954</td>\n",
       "    </tr>\n",
       "    <tr>\n",
       "      <th>JN815240.1</th>\n",
       "      <td>518</td>\n",
       "      <td>0</td>\n",
       "      <td>0.500000</td>\n",
       "      <td>75</td>\n",
       "      <td>129</td>\n",
       "      <td>11</td>\n",
       "      <td>102</td>\n",
       "      <td>422</td>\n",
       "      <td>0</td>\n",
       "      <td>6005</td>\n",
       "      <td>190</td>\n",
       "      <td>6934</td>\n",
       "      <td>6794</td>\n",
       "      <td>0.969</td>\n",
       "    </tr>\n",
       "  </tbody>\n",
       "</table>\n",
       "</div>"
      ],
      "text/plain": [
       "            seqmap  dbmap  containment  ESref  ESb  ENref  ENb  Nref   Nb  \\\n",
       "JN815244.1     436      0     0.444444    181  169    418  560    15  230   \n",
       "JN815240.1     518      0     0.500000     75  129     11  102   422    0   \n",
       "\n",
       "            match  mismatch  alignment length  seq_length    pid  \n",
       "JN815244.1   5653       272              7498        6911  0.954  \n",
       "JN815240.1   6005       190              6934        6794  0.969  "
      ]
     },
     "execution_count": 232,
     "metadata": {},
     "output_type": "execute_result"
    }
   ],
   "source": [
    "joint_results_df = pd.concat([mapping_results_df, pairwise_results_df], axis=1)\n",
    "joint_results_df.sort_values(by='containment', ascending = True, inplace=True)\n",
    "joint_results_df"
   ]
  },
  {
   "cell_type": "code",
   "execution_count": 233,
   "metadata": {},
   "outputs": [
    {
     "data": {
      "text/plain": [
       "<matplotlib.legend.Legend at 0x7f9fc04687f0>"
      ]
     },
     "execution_count": 233,
     "metadata": {},
     "output_type": "execute_result"
    },
    {
     "data": {
      "image/png": "[encoded data removed]",
      "text/plain": [
       "<Figure size 432x432 with 1 Axes>"
      ]
     },
     "metadata": {
      "needs_background": "light"
     },
     "output_type": "display_data"
    }
   ],
   "source": [
    "plt.figure(figsize=(6,6))\n",
    "plt.scatter(joint_results_df['seqmap'], joint_results_df['containment'], zorder=0)\n",
    "plt.scatter(joint_results_df['dbmap'], joint_results_df['containment'], zorder=1, color='red', alpha=.4)\n",
    "plt.xlabel('unmapped_reads')\n",
    "plt.ylabel('containment')\n",
    "plt.title('unmapped reads as a function of containment')\n",
    "\n",
    "red_patch = mpatches.Patch(color='red', label='full db alignment')\n",
    "blue_patch = mpatches.Patch(color='blue', label='retained seq alignment')\n",
    "plt.legend(handles=[red_patch, blue_patch])\n",
    "\n",
    "#plt.scatter(x1,y1,marker = 'o', s = 6, color = 'r', zorder=1)\n",
    "\n",
    "#ax1 = joint_results_df[['seqmap', 'containment']].plot(kind='scatter', x= 'seqmap', y='containment')\n",
    "#joint_results_df[['dbmap', 'containment']].plot(kind='scatter', x= 'dbmap', y='containment', axis=ax1)"
   ]
  },
  {
   "cell_type": "code",
   "execution_count": null,
   "metadata": {},
   "outputs": [],
   "source": []
  }
 ],
 "metadata": {
  "kernelspec": {
   "display_name": "Python 3",
   "language": "python",
   "name": "python3"
  },
  "language_info": {
   "codemirror_mode": {
    "name": "ipython",
    "version": 3
   },
   "file_extension": ".py",
   "mimetype": "text/x-python",
   "name": "python",
   "nbconvert_exporter": "python",
   "pygments_lexer": "ipython3",
   "version": "3.8.5"
  }
 },
 "nbformat": 4,
 "nbformat_minor": 4
}
