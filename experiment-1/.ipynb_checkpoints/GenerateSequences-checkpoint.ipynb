{
 "cells": [
  {
   "cell_type": "markdown",
   "metadata": {},
   "source": [
    "### Experiment 1 - Generate sequences at variable % identity,  evaluate Sourmash similarities"
   ]
  },
  {
   "cell_type": "code",
   "execution_count": 204,
   "metadata": {
    "scrolled": true
   },
   "outputs": [],
   "source": [
    "from Bio import SeqIO\n",
    "import numpy as np\n",
    "import random\n",
    "import pandas as pd\n",
    "import matplotlib.pyplot as plt\n",
    "import time\n",
    "\n",
    "%matplotlib inline"
   ]
  },
  {
   "cell_type": "code",
   "execution_count": 113,
   "metadata": {
    "scrolled": true
   },
   "outputs": [
    {
     "name": "stdout",
     "output_type": "stream",
     "text": [
      ">NZ_UYIP01000002.1 Streptococcus pneumoniae strain NCTC11032, whole genome shotgun sequence\r\n",
      ">NZ_UYIP01000001.1 Streptococcus pneumoniae strain NCTC11032, whole genome shotgun sequence\r\n"
     ]
    }
   ],
   "source": [
    "#! grep \">\" GCF_900618125.1_NCTC11032_genomic.fna"
   ]
  },
  {
   "cell_type": "code",
   "execution_count": 199,
   "metadata": {
    "scrolled": true
   },
   "outputs": [],
   "source": [
    "# read the original NCBI reference sequence\n",
    "\n",
    "#filename = \"rhinovirus_NC_001617.fasta\" #\"chkv_NC_004162.fasta\" #\"GCF_900618125.1_NCTC11032_genomic.fna\"\n",
    "filename = \"GCF_900618125.1_NCTC11032_genomic.fna\"\n",
    "\n",
    "original_record = SeqIO.read(filename, \"fasta\") # NOTE: this only works with single-sequence .fasta files\n",
    "\n",
    "id_thresholds = [0.99, 0.97, 0.95, 0.92, 0.9, 0.85, 0.8]  # specified list of thresholds\n",
    "\n",
    "def mutate_sequence(sequence, pid):\n",
    "    '''\n",
    "    Given a sequence and a % ID threshold, mutate the sequence at random positions to produce\n",
    "    a new sequence with the specified % ID. Return the new sequence string.\n",
    "    '''\n",
    "    \n",
    "    swap_values = ['A','C','G','T']\n",
    "    \n",
    "    len_of_seq = len(sequence)\n",
    "    num_bp_to_change = (np.round(len_of_seq) * (1-pid))\n",
    "    all_bp_locs = [b for b in range(len_of_seq)]    \n",
    "    bp_locs_to_change = random.sample(all_bp_locs, int(num_bp_to_change))\n",
    "    \n",
    "    # loop through indices of bases to change and swap out values\n",
    "    new_seq = list(sequence)\n",
    "    for bp in bp_locs_to_change:\n",
    "        new_seq[bp] = random.sample([i for i in swap_values if i != new_seq[bp] ], 1)[0]\n",
    "        \n",
    "    return(\"\".join(new_seq))\n",
    "\n",
    "# currate a dictionary of mutated sequences at specified %ID thresholds\n",
    "sequence_dict = {original_record.id : original_record.seq}\n",
    "for i in id_thresholds:\n",
    "    for j in range(10):\n",
    "        this_seq = mutate_sequence(original_record.seq, i)\n",
    "        sequence_dict[str(i) + '-' + str(j+1)] = this_seq\n",
    "        \n",
    "# write the mutated sequences to a fasta file\n",
    "with open(\"all_simulated_seqs.fasta\", 'w') as f: \n",
    "    for s in sequence_dict:\n",
    "        f.write('>' + s + '\\n' + str(sequence_dict[s]) + '\\n')\n",
    "f.close()"
   ]
  },
  {
   "cell_type": "code",
   "execution_count": 200,
   "metadata": {
    "scrolled": true
   },
   "outputs": [
    {
     "data": {
      "text/plain": [
       "'\\n\\n# Apply Sourmash to generate signatures and compare\\n#! sourmash -h\\n#! sourmash sketch dna -h\\n! rm cmp*\\n! rm *sig\\n! sourmash sketch dna -p k=21,scaled=10 --singleton all_simulated_seqs.fasta\\n! sourmash compare *.sig --containment -o cmp.dist\\n! sourmash compare *.sig --containment -o cmp.dist --csv cmp.csv\\n\\n# plot the sourmash distances as compared to the original reference sequence\\ndf = pd.read_csv(\"cmp.csv\")\\ndf.index = df.columns\\nprint(df.shape)\\ndf.iloc[0].plot(kind=\\'bar\\', figsize=(15,3), width=.8)\\nplt.title(\\'Rhinovirus -- \\' + original_record.id + \\n          \\', len = \\' + str(len(original_record.seq)) + \\n          \\', sourmash k=21,scaled=10\\')\\ndf.iloc[0]\\n\\n'"
      ]
     },
     "execution_count": 200,
     "metadata": {},
     "output_type": "execute_result"
    }
   ],
   "source": [
    "'''\n",
    "\n",
    "# Apply Sourmash to generate signatures and compare\n",
    "#! sourmash -h\n",
    "#! sourmash sketch dna -h\n",
    "! rm cmp*\n",
    "! rm *sig\n",
    "! sourmash sketch dna -p k=21,scaled=10 --singleton all_simulated_seqs.fasta\n",
    "! sourmash compare *.sig --containment -o cmp.dist\n",
    "! sourmash compare *.sig --containment -o cmp.dist --csv cmp.csv\n",
    "\n",
    "# plot the sourmash distances as compared to the original reference sequence\n",
    "df = pd.read_csv(\"cmp.csv\")\n",
    "df.index = df.columns\n",
    "print(df.shape)\n",
    "df.iloc[0].plot(kind='bar', figsize=(15,3), width=.8)\n",
    "plt.title('Rhinovirus -- ' + original_record.id + \n",
    "          ', len = ' + str(len(original_record.seq)) + \n",
    "          ', sourmash k=21,scaled=10')\n",
    "df.iloc[0]\n",
    "\n",
    "'''"
   ]
  },
  {
   "cell_type": "code",
   "execution_count": 210,
   "metadata": {
    "scrolled": false
   },
   "outputs": [
    {
     "name": "stdout",
     "output_type": "stream",
     "text": [
      "\u001b[K\n",
      "== This is sourmash version 4.6.1. ==\n",
      "\u001b[K== Please cite Brown and Irber (2016), doi:10.21105/joss.00027. ==\n",
      "\n",
      "\u001b[KWARNING: scaled value should be >= 100. Continuing anyway.\n",
      "\u001b[Kcomputing signatures for files: all_simulated_seqs.fasta\n",
      "\u001b[KComputing a total of 1 signature(s) for each input.\n",
      "\u001b[Kcalculated 71 signatures for 71 sequences in all_simulated_seqs.fasta\n",
      "\u001b[Ksaved 71 signature(s) to 'all_simulated_seqs.fasta.sig'. Note: signature license is CC0.\n",
      "\u001b[K\n",
      "== This is sourmash version 4.6.1. ==\n",
      "\u001b[K== Please cite Brown and Irber (2016), doi:10.21105/joss.00027. ==\n",
      "\n",
      "\u001b[Kloaded 71 signatures total.                                                    \n",
      "\u001b[K\n",
      "min similarity in matrix: 0.000\n",
      "\u001b[Ksaving labels to: cmp.dist.labels.txt\n",
      "\u001b[Ksaving comparison matrix to: cmp.dist\n",
      "\u001b[K\n",
      "== This is sourmash version 4.6.1. ==\n",
      "\u001b[K== Please cite Brown and Irber (2016), doi:10.21105/joss.00027. ==\n",
      "\n",
      "\u001b[Kloaded 71 signatures total.                                                    \n",
      "\u001b[K\n",
      "min similarity in matrix: 0.000\n",
      "\u001b[Ksaving labels to: cmp.dist.labels.txt\n",
      "\u001b[Ksaving comparison matrix to: cmp.dist\n",
      "\u001b[K\n",
      "== This is sourmash version 4.6.1. ==\n",
      "\u001b[K== Please cite Brown and Irber (2016), doi:10.21105/joss.00027. ==\n",
      "\n",
      "\u001b[Kcomputing signatures for files: all_simulated_seqs.fasta\n",
      "\u001b[KComputing a total of 1 signature(s) for each input.\n",
      "\u001b[Kcalculated 71 signatures for 71 sequences in all_simulated_seqs.fasta\n",
      "\u001b[Ksaved 71 signature(s) to 'all_simulated_seqs.fasta.sig'. Note: signature license is CC0.\n",
      "\u001b[K\n",
      "== This is sourmash version 4.6.1. ==\n",
      "\u001b[K== Please cite Brown and Irber (2016), doi:10.21105/joss.00027. ==\n",
      "\n",
      "\u001b[Kloaded 71 signatures total.                                                    \n",
      "\u001b[K\n",
      "min similarity in matrix: 0.000\n",
      "\u001b[Ksaving labels to: cmp.dist.labels.txt\n",
      "\u001b[Ksaving comparison matrix to: cmp.dist\n",
      "\u001b[K\n",
      "== This is sourmash version 4.6.1. ==\n",
      "\u001b[K== Please cite Brown and Irber (2016), doi:10.21105/joss.00027. ==\n",
      "\n",
      "\u001b[Kloaded 71 signatures total.                                                    \n",
      "\u001b[K\n",
      "min similarity in matrix: 0.000\n",
      "\u001b[Ksaving labels to: cmp.dist.labels.txt\n",
      "\u001b[Ksaving comparison matrix to: cmp.dist\n",
      "\u001b[K\n",
      "== This is sourmash version 4.6.1. ==\n",
      "\u001b[K== Please cite Brown and Irber (2016), doi:10.21105/joss.00027. ==\n",
      "\n",
      "\u001b[Kcomputing signatures for files: all_simulated_seqs.fasta\n",
      "\u001b[KComputing a total of 1 signature(s) for each input.\n",
      "\u001b[Kcalculated 71 signatures for 71 sequences in all_simulated_seqs.fasta\n",
      "\u001b[Ksaved 71 signature(s) to 'all_simulated_seqs.fasta.sig'. Note: signature license is CC0.\n",
      "\u001b[K\n",
      "== This is sourmash version 4.6.1. ==\n",
      "\u001b[K== Please cite Brown and Irber (2016), doi:10.21105/joss.00027. ==\n",
      "\n",
      "\u001b[Kloaded 71 signatures total.                                                    \n",
      "\u001b[K\n",
      "min similarity in matrix: 0.000\n",
      "\u001b[Ksaving labels to: cmp.dist.labels.txt\n",
      "\u001b[Ksaving comparison matrix to: cmp.dist\n",
      "\u001b[K\n",
      "== This is sourmash version 4.6.1. ==\n",
      "\u001b[K== Please cite Brown and Irber (2016), doi:10.21105/joss.00027. ==\n",
      "\n",
      "\u001b[Kloaded 71 signatures total.                                                    \n",
      "\u001b[K\n",
      "min similarity in matrix: 0.000\n",
      "\u001b[Ksaving labels to: cmp.dist.labels.txt\n",
      "\u001b[Ksaving comparison matrix to: cmp.dist\n",
      "\u001b[K\n",
      "== This is sourmash version 4.6.1. ==\n",
      "\u001b[K== Please cite Brown and Irber (2016), doi:10.21105/joss.00027. ==\n",
      "\n",
      "\u001b[Kcomputing signatures for files: all_simulated_seqs.fasta\n",
      "\u001b[KComputing a total of 1 signature(s) for each input.\n",
      "\u001b[Kcalculated 71 signatures for 71 sequences in all_simulated_seqs.fasta\n",
      "\u001b[Ksaved 71 signature(s) to 'all_simulated_seqs.fasta.sig'. Note: signature license is CC0.\n",
      "\u001b[K\n",
      "== This is sourmash version 4.6.1. ==\n",
      "\u001b[K== Please cite Brown and Irber (2016), doi:10.21105/joss.00027. ==\n",
      "\n",
      "\u001b[Kloaded 71 signatures total.                                                    \n",
      "\u001b[K\n",
      "min similarity in matrix: 0.000\n",
      "\u001b[Ksaving labels to: cmp.dist.labels.txt\n",
      "\u001b[Ksaving comparison matrix to: cmp.dist\n",
      "\u001b[K\n",
      "== This is sourmash version 4.6.1. ==\n",
      "\u001b[K== Please cite Brown and Irber (2016), doi:10.21105/joss.00027. ==\n",
      "\n",
      "\u001b[Kloaded 71 signatures total.                                                    \n",
      "\u001b[K\n",
      "min similarity in matrix: 0.000\n",
      "\u001b[Ksaving labels to: cmp.dist.labels.txt\n",
      "\u001b[Ksaving comparison matrix to: cmp.dist\n",
      "\u001b[K\n",
      "== This is sourmash version 4.6.1. ==\n",
      "\u001b[K== Please cite Brown and Irber (2016), doi:10.21105/joss.00027. ==\n",
      "\n",
      "\u001b[Kcomputing signatures for files: all_simulated_seqs.fasta\n",
      "\u001b[KComputing a total of 1 signature(s) for each input.\n",
      "\u001b[Kcalculated 71 signatures for 71 sequences in all_simulated_seqs.fasta\n",
      "\u001b[Ksaved 71 signature(s) to 'all_simulated_seqs.fasta.sig'. Note: signature license is CC0.\n",
      "\u001b[K\n",
      "== This is sourmash version 4.6.1. ==\n",
      "\u001b[K== Please cite Brown and Irber (2016), doi:10.21105/joss.00027. ==\n",
      "\n",
      "\u001b[Kloaded 71 signatures total.                                                    \n",
      "\u001b[K\n",
      "min similarity in matrix: 0.000\n",
      "\u001b[Ksaving labels to: cmp.dist.labels.txt\n",
      "\u001b[Ksaving comparison matrix to: cmp.dist\n",
      "\u001b[KWARNING: size estimation for at least one of these sketches may be inaccurate. ANI values will be set to 1 for these comparisons.\n",
      "\u001b[K\n",
      "== This is sourmash version 4.6.1. ==\n",
      "\u001b[K== Please cite Brown and Irber (2016), doi:10.21105/joss.00027. ==\n",
      "\n",
      "\u001b[Kloaded 71 signatures total.                                                    \n",
      "\u001b[K\n",
      "min similarity in matrix: 0.000\n",
      "\u001b[Ksaving labels to: cmp.dist.labels.txt\n",
      "\u001b[Ksaving comparison matrix to: cmp.dist\n",
      "\u001b[KWARNING: size estimation for at least one of these sketches may be inaccurate. ANI values will be set to 1 for these comparisons.\n"
     ]
    },
    {
     "data": {
      "image/png": "[encoded data removed]",
      "text/plain": [
       "<Figure size 1440x360 with 5 Axes>"
      ]
     },
     "metadata": {
      "needs_background": "light"
     },
     "output_type": "display_data"
    }
   ],
   "source": [
    "# Iteratively run sourmash at varying *scaled* parameters...\n",
    "# and plot the sourmash distances as a function of the known percent identity\n",
    "\n",
    "#%%capture\n",
    "K = 51\n",
    "    \n",
    "fig, axs = plt.subplots(1, 5, sharey='row', sharex='col', figsize=(20,5))\n",
    "fig.suptitle(filename.split('.')[0] + ' -- ' + original_record.id + \n",
    "          ', len = ' + str(len(original_record.seq)) + ', sourmash k=' + str(K) + '\\n\\n\\n')\n",
    "\n",
    "scale_thresholds = [10, 100, 1000, 10000, 100000]\n",
    "\n",
    "for scale_threshold_id in range(len(scale_thresholds)):\n",
    "    \n",
    "    ST = scale_thresholds[scale_threshold_id]\n",
    "    \n",
    "    start = time.time()\n",
    "    \n",
    "    ! rm cmp*;\n",
    "    ! rm *sig;\n",
    "    ! sourmash sketch dna -p k={K},scaled={ST} --singleton all_simulated_seqs.fasta;\n",
    "    ! sourmash compare *.sig --containment -o cmp.dist;\n",
    "    ! sourmash compare *.sig --containment -o cmp.dist --csv cmp.csv;\n",
    "\n",
    "    end = time.time()\n",
    "    elapsed = end - start\n",
    "    \n",
    "    df = pd.read_csv(\"cmp.csv\")\n",
    "    df.index = df.columns\n",
    "    \n",
    "    combined_dict = {}\n",
    "    for i in id_thresholds:\n",
    "        indexes = [j for j in df.index if str(i) == str(j.split('-')[0])]\n",
    "        combined_dict[i] = list(df.iloc[0][indexes])\n",
    "\n",
    "    labels, data = [*zip(*combined_dict.items())]  # 'transpose' items to parallel key, value lists\n",
    "    # or backwards compatable    \n",
    "    labels, data = combined_dict.keys(), combined_dict.values()\n",
    "    \n",
    "    axs[scale_threshold_id].boxplot(data, labels = labels)\n",
    "    axs[scale_threshold_id].set_ylim(0,1)\n",
    "    axs[scale_threshold_id].set_ylabel(\"Sourmash Distance\")\n",
    "    axs[scale_threshold_id].set_xlabel(\"Percent Identity\")\n",
    "    axs[scale_threshold_id].set_title('sourmash scaled=' + str(ST))\n",
    "    axs[scale_threshold_id].text(5, .9, str(np.round(elapsed, 3)) + ' s.')\n",
    "\n",
    "plt.show()"
   ]
  },
  {
   "cell_type": "code",
   "execution_count": null,
   "metadata": {
    "scrolled": true
   },
   "outputs": [],
   "source": []
  }
 ],
 "metadata": {
  "kernelspec": {
   "display_name": "Python 3",
   "language": "python",
   "name": "python3"
  },
  "language_info": {
   "codemirror_mode": {
    "name": "ipython",
    "version": 3
   },
   "file_extension": ".py",
   "mimetype": "text/x-python",
   "name": "python",
   "nbconvert_exporter": "python",
   "pygments_lexer": "ipython3",
   "version": "3.8.5"
  }
 },
 "nbformat": 4,
 "nbformat_minor": 4
}
