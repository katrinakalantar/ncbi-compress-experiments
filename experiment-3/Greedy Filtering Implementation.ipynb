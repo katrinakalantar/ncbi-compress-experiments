{
 "cells": [
  {
   "cell_type": "code",
   "execution_count": 45,
   "metadata": {},
   "outputs": [],
   "source": [
    "from Bio import SeqIO\n",
    "import numpy as np\n",
    "import random\n",
    "import pandas as pd\n",
    "import matplotlib.pyplot as plt\n",
    "import time\n",
    "import seaborn as sns\n",
    "\n",
    "%matplotlib inline"
   ]
  },
  {
   "cell_type": "markdown",
   "metadata": {},
   "source": [
    "### Simulate some data that should be clustered\n",
    "NOTE: this is different from the simulations implemented in Experiment-1 because those were all distinct from a seed. Here, we will have multiple seeds with divergence from those seeds."
   ]
  },
  {
   "cell_type": "code",
   "execution_count": 55,
   "metadata": {},
   "outputs": [],
   "source": [
    "# read the original NCBI reference sequence\n",
    "\n",
    "filename = \"../refs/rhinovirus_NC_001617.fasta\" #\"chkv_NC_004162.fasta\" #\"GCF_900618125.1_NCTC11032_genomic.fna\"\n",
    "#filename = \"../refs/chkv_NC_004162.fasta\"\n",
    "#filename = \"../refs/GCF_900618125.1_NCTC11032_genomic.fna\"\n",
    "\n",
    "original_record = SeqIO.read(filename, \"fasta\") # NOTE: this only works with single-sequence .fasta files\n",
    "\n",
    "id_thresholds = [0.99, 0.97, 0.95, 0.92, 0.9, 0.85, 0.8]  # specified list of thresholds\n",
    "\n",
    "def mutate_sequence(sequence, pid):\n",
    "    '''\n",
    "    Given a sequence and a % ID threshold, mutate the sequence at random positions to produce\n",
    "    a new sequence with the specified % ID. Return the new sequence string.\n",
    "    '''\n",
    "    \n",
    "    swap_values = ['A','C','G','T']\n",
    "    \n",
    "    len_of_seq = len(sequence)\n",
    "    num_bp_to_change = (np.round(len_of_seq) * (1-pid))\n",
    "    all_bp_locs = [b for b in range(len_of_seq)]    \n",
    "    bp_locs_to_change = random.sample(all_bp_locs, int(num_bp_to_change))\n",
    "    \n",
    "    # loop through indices of bases to change and swap out values\n",
    "    new_seq = list(sequence)\n",
    "    for bp in bp_locs_to_change:\n",
    "        new_seq[bp] = random.sample([i for i in swap_values if i != new_seq[bp] ], 1)[0]\n",
    "        \n",
    "    return(\"\".join(new_seq))\n",
    "\n",
    "# currate a dictionary of mutated sequences at specified %ID thresholds from the original sequence\n",
    "# these will be SEEDS from which to create pockets of sequences\n",
    "seed_sequence_dict = {original_record.id : original_record.seq}\n",
    "for i in id_thresholds:\n",
    "    for j in range(1): # previously, we did this multiple times to understand variability\n",
    "        this_seq = mutate_sequence(original_record.seq, i)\n",
    "        seed_sequence_dict[str(i) + '-seed'] = this_seq\n",
    "\n",
    "# THIS IS THE MAJOR DIFFERENCE -- take seeds, and simulate based on those (not just thei nitial ref)\n",
    "# using the seed sequences, create a dictionaroy of mutated sequences at specified %ID thresholds from \n",
    "# those seeds. This should create \"clusters\" of similar sequences.\n",
    "full_sequence_dict = {}\n",
    "for orig_seq in seed_sequence_dict:\n",
    "    full_sequence_dict[orig_seq] = seed_sequence_dict[orig_seq]\n",
    "    for i in id_thresholds:\n",
    "        for j in range(2):\n",
    "            this_seq = mutate_sequence(seed_sequence_dict[orig_seq], i)\n",
    "            full_sequence_dict[orig_seq + '-' + str(i) + '-' + str(j)] = this_seq\n",
    "\n",
    "        \n",
    "# write the mutated sequences to a fasta file\n",
    "with open(\"all_simulated_seqs.fasta\", 'w') as f: \n",
    "    for s in full_sequence_dict:\n",
    "        f.write('>' + s + '\\n' + str(full_sequence_dict[s]) + '\\n')\n",
    "f.close()"
   ]
  },
  {
   "cell_type": "code",
   "execution_count": 56,
   "metadata": {},
   "outputs": [
    {
     "data": {
      "text/plain": [
       "dict_keys(['NC_001617.1', 'NC_001617.1-0.99-0', 'NC_001617.1-0.99-1', 'NC_001617.1-0.97-0', 'NC_001617.1-0.97-1', 'NC_001617.1-0.95-0', 'NC_001617.1-0.95-1', 'NC_001617.1-0.92-0', 'NC_001617.1-0.92-1', 'NC_001617.1-0.9-0', 'NC_001617.1-0.9-1', 'NC_001617.1-0.85-0', 'NC_001617.1-0.85-1', 'NC_001617.1-0.8-0', 'NC_001617.1-0.8-1', '0.99-seed', '0.99-seed-0.99-0', '0.99-seed-0.99-1', '0.99-seed-0.97-0', '0.99-seed-0.97-1', '0.99-seed-0.95-0', '0.99-seed-0.95-1', '0.99-seed-0.92-0', '0.99-seed-0.92-1', '0.99-seed-0.9-0', '0.99-seed-0.9-1', '0.99-seed-0.85-0', '0.99-seed-0.85-1', '0.99-seed-0.8-0', '0.99-seed-0.8-1', '0.97-seed', '0.97-seed-0.99-0', '0.97-seed-0.99-1', '0.97-seed-0.97-0', '0.97-seed-0.97-1', '0.97-seed-0.95-0', '0.97-seed-0.95-1', '0.97-seed-0.92-0', '0.97-seed-0.92-1', '0.97-seed-0.9-0', '0.97-seed-0.9-1', '0.97-seed-0.85-0', '0.97-seed-0.85-1', '0.97-seed-0.8-0', '0.97-seed-0.8-1', '0.95-seed', '0.95-seed-0.99-0', '0.95-seed-0.99-1', '0.95-seed-0.97-0', '0.95-seed-0.97-1', '0.95-seed-0.95-0', '0.95-seed-0.95-1', '0.95-seed-0.92-0', '0.95-seed-0.92-1', '0.95-seed-0.9-0', '0.95-seed-0.9-1', '0.95-seed-0.85-0', '0.95-seed-0.85-1', '0.95-seed-0.8-0', '0.95-seed-0.8-1', '0.92-seed', '0.92-seed-0.99-0', '0.92-seed-0.99-1', '0.92-seed-0.97-0', '0.92-seed-0.97-1', '0.92-seed-0.95-0', '0.92-seed-0.95-1', '0.92-seed-0.92-0', '0.92-seed-0.92-1', '0.92-seed-0.9-0', '0.92-seed-0.9-1', '0.92-seed-0.85-0', '0.92-seed-0.85-1', '0.92-seed-0.8-0', '0.92-seed-0.8-1', '0.9-seed', '0.9-seed-0.99-0', '0.9-seed-0.99-1', '0.9-seed-0.97-0', '0.9-seed-0.97-1', '0.9-seed-0.95-0', '0.9-seed-0.95-1', '0.9-seed-0.92-0', '0.9-seed-0.92-1', '0.9-seed-0.9-0', '0.9-seed-0.9-1', '0.9-seed-0.85-0', '0.9-seed-0.85-1', '0.9-seed-0.8-0', '0.9-seed-0.8-1', '0.85-seed', '0.85-seed-0.99-0', '0.85-seed-0.99-1', '0.85-seed-0.97-0', '0.85-seed-0.97-1', '0.85-seed-0.95-0', '0.85-seed-0.95-1', '0.85-seed-0.92-0', '0.85-seed-0.92-1', '0.85-seed-0.9-0', '0.85-seed-0.9-1', '0.85-seed-0.85-0', '0.85-seed-0.85-1', '0.85-seed-0.8-0', '0.85-seed-0.8-1', '0.8-seed', '0.8-seed-0.99-0', '0.8-seed-0.99-1', '0.8-seed-0.97-0', '0.8-seed-0.97-1', '0.8-seed-0.95-0', '0.8-seed-0.95-1', '0.8-seed-0.92-0', '0.8-seed-0.92-1', '0.8-seed-0.9-0', '0.8-seed-0.9-1', '0.8-seed-0.85-0', '0.8-seed-0.85-1', '0.8-seed-0.8-0', '0.8-seed-0.8-1'])"
      ]
     },
     "execution_count": 56,
     "metadata": {},
     "output_type": "execute_result"
    }
   ],
   "source": [
    "full_sequence_dict.keys()"
   ]
  },
  {
   "cell_type": "markdown",
   "metadata": {},
   "source": [
    "### Run sourmash on the simulated sequences"
   ]
  },
  {
   "cell_type": "code",
   "execution_count": 57,
   "metadata": {},
   "outputs": [
    {
     "name": "stdout",
     "output_type": "stream",
     "text": [
      "\u001b[K\n",
      "== This is sourmash version 4.6.1. ==\n",
      "\u001b[K== Please cite Brown and Irber (2016), doi:10.21105/joss.00027. ==\n",
      "\n",
      "\u001b[Kcomputing signatures for files: all_simulated_seqs.fasta\n",
      "\u001b[KComputing a total of 1 signature(s) for each input.\n",
      "\u001b[Kcalculated 120 signatures for 120 sequences in all_simulated_seqs.fasta\n",
      "\u001b[Ksaved 120 signature(s) to 'all_simulated_seqs.fasta.sig'. Note: signature license is CC0.\n",
      "\u001b[K\n",
      "== This is sourmash version 4.6.1. ==\n",
      "\u001b[K== Please cite Brown and Irber (2016), doi:10.21105/joss.00027. ==\n",
      "\n",
      "\u001b[Kloaded 120 signatures total.                                                   \n",
      "\u001b[K\n",
      "min similarity in matrix: 0.000\n",
      "\u001b[Ksaving labels to: cmp.dist.labels.txt\n",
      "\u001b[Ksaving comparison matrix to: cmp.dist\n",
      "\u001b[KWARNING: size estimation for at least one of these sketches may be inaccurate. ANI values will be set to 1 for these comparisons.\n",
      "\u001b[K\n",
      "== This is sourmash version 4.6.1. ==\n",
      "\u001b[K== Please cite Brown and Irber (2016), doi:10.21105/joss.00027. ==\n",
      "\n",
      "\u001b[Kloaded 120 signatures total.                                                   \n",
      "\u001b[K\n",
      "min similarity in matrix: 0.000\n",
      "\u001b[Ksaving labels to: cmp.dist.labels.txt\n",
      "\u001b[Ksaving comparison matrix to: cmp.dist\n",
      "\u001b[KWARNING: size estimation for at least one of these sketches may be inaccurate. ANI values will be set to 1 for these comparisons.\n"
     ]
    }
   ],
   "source": [
    "# Iteratively run sourmash at varying *scaled* parameters...\n",
    "# and plot the sourmash distances as a function of the known percent identity\n",
    "\n",
    "#%%capture\n",
    "K = 31\n",
    "ST = 1000\n",
    "    \n",
    "start = time.time()\n",
    "    \n",
    "! rm cmp*;\n",
    "! rm *sig;\n",
    "# num was scaled\n",
    "! sourmash sketch dna -p k={K},scaled={ST} --singleton all_simulated_seqs.fasta;\n",
    "! sourmash compare *.sig --containment -o cmp.dist;\n",
    "! sourmash compare *.sig --containment -o cmp.dist --csv cmp.csv;\n",
    "\n",
    "end = time.time()\n",
    "elapsed = end - start\n"
   ]
  },
  {
   "cell_type": "markdown",
   "metadata": {},
   "source": [
    "### Implement greedy filtering on the result of sourmash from simulated sequences"
   ]
  },
  {
   "cell_type": "code",
   "execution_count": 74,
   "metadata": {
    "scrolled": false
   },
   "outputs": [
    {
     "data": {
      "text/plain": [
       "<Figure size 1800x1440 with 0 Axes>"
      ]
     },
     "metadata": {},
     "output_type": "display_data"
    },
    {
     "data": {
      "image/png": "[encoded data removed]",
      "text/plain": [
       "<Figure size 720x720 with 4 Axes>"
      ]
     },
     "metadata": {
      "needs_background": "light"
     },
     "output_type": "display_data"
    }
   ],
   "source": [
    "# Visualization to help with spot-checking the implementation of greedy cluster-making.\n",
    "\n",
    "df = pd.read_csv(\"cmp.csv\")\n",
    "df.index = df.columns\n",
    "df.shape\n",
    "\n",
    "#plt.figure(figsize = (16,12))\n",
    "#sns.heatmap(df, cmap = sns.color_palette(\"flare\", as_cmap=True))\n",
    "#plt.show()\n",
    "\n",
    "#plt.figure(figsize = (16,12))\n",
    "#sns.heatmap(df > .4, cmap = sns.color_palette(\"flare\", as_cmap=True))\n",
    "#plt.show()\n",
    "\n",
    "plt.figure(figsize = (25,20))\n",
    "g = sns.clustermap(df > .6, cmap = sns.color_palette(\"flare\", as_cmap=True), xticklabels=True, yticklabels=True)\n",
    "g.ax_heatmap.set_xticklabels(g.ax_heatmap.get_xmajorticklabels(), fontsize = 6)\n",
    "g.ax_heatmap.set_yticklabels(g.ax_heatmap.get_ymajorticklabels(), fontsize = 6)\n",
    "plt.show()"
   ]
  },
  {
   "cell_type": "code",
   "execution_count": 75,
   "metadata": {},
   "outputs": [
    {
     "data": {
      "text/plain": [
       "{'NC_001617.1': ['NC_001617.1-0.99-0', 'NC_001617.1-0.99-1', '0.99-seed'],\n",
       " 'NC_001617.1-0.97-0': [],\n",
       " 'NC_001617.1-0.97-1': [],\n",
       " 'NC_001617.1-0.95-0': [],\n",
       " 'NC_001617.1-0.95-1': [],\n",
       " 'NC_001617.1-0.92-0': [],\n",
       " 'NC_001617.1-0.92-1': [],\n",
       " 'NC_001617.1-0.9-0': [],\n",
       " 'NC_001617.1-0.9-1': [],\n",
       " 'NC_001617.1-0.85-0': [],\n",
       " 'NC_001617.1-0.85-1': [],\n",
       " 'NC_001617.1-0.8-0': [],\n",
       " 'NC_001617.1-0.8-1': [],\n",
       " '0.99-seed-0.99-0': ['0.99-seed-0.99-1'],\n",
       " '0.99-seed-0.97-0': [],\n",
       " '0.99-seed-0.97-1': [],\n",
       " '0.99-seed-0.95-0': [],\n",
       " '0.99-seed-0.95-1': [],\n",
       " '0.99-seed-0.92-0': [],\n",
       " '0.99-seed-0.92-1': [],\n",
       " '0.99-seed-0.9-0': [],\n",
       " '0.99-seed-0.9-1': [],\n",
       " '0.99-seed-0.85-0': [],\n",
       " '0.99-seed-0.85-1': [],\n",
       " '0.99-seed-0.8-0': [],\n",
       " '0.99-seed-0.8-1': [],\n",
       " '0.97-seed': ['0.97-seed-0.99-0', '0.97-seed-0.99-1'],\n",
       " '0.97-seed-0.97-0': [],\n",
       " '0.97-seed-0.97-1': [],\n",
       " '0.97-seed-0.95-0': [],\n",
       " '0.97-seed-0.95-1': [],\n",
       " '0.97-seed-0.92-0': [],\n",
       " '0.97-seed-0.92-1': [],\n",
       " '0.97-seed-0.9-0': [],\n",
       " '0.97-seed-0.9-1': [],\n",
       " '0.97-seed-0.85-0': [],\n",
       " '0.97-seed-0.85-1': [],\n",
       " '0.97-seed-0.8-0': [],\n",
       " '0.97-seed-0.8-1': [],\n",
       " '0.95-seed': ['0.95-seed-0.99-1'],\n",
       " '0.95-seed-0.99-0': [],\n",
       " '0.95-seed-0.97-0': [],\n",
       " '0.95-seed-0.97-1': [],\n",
       " '0.95-seed-0.95-0': [],\n",
       " '0.95-seed-0.95-1': [],\n",
       " '0.95-seed-0.92-0': [],\n",
       " '0.95-seed-0.92-1': [],\n",
       " '0.95-seed-0.9-0': [],\n",
       " '0.95-seed-0.9-1': [],\n",
       " '0.95-seed-0.85-0': [],\n",
       " '0.95-seed-0.85-1': [],\n",
       " '0.95-seed-0.8-0': [],\n",
       " '0.95-seed-0.8-1': [],\n",
       " '0.92-seed': ['0.92-seed-0.99-0', '0.92-seed-0.99-1'],\n",
       " '0.92-seed-0.97-0': [],\n",
       " '0.92-seed-0.97-1': [],\n",
       " '0.92-seed-0.95-0': [],\n",
       " '0.92-seed-0.95-1': [],\n",
       " '0.92-seed-0.92-0': [],\n",
       " '0.92-seed-0.92-1': [],\n",
       " '0.92-seed-0.9-0': [],\n",
       " '0.92-seed-0.9-1': [],\n",
       " '0.92-seed-0.85-0': [],\n",
       " '0.92-seed-0.85-1': [],\n",
       " '0.92-seed-0.8-0': [],\n",
       " '0.92-seed-0.8-1': [],\n",
       " '0.9-seed': ['0.9-seed-0.99-0', '0.9-seed-0.99-1'],\n",
       " '0.9-seed-0.97-0': [],\n",
       " '0.9-seed-0.97-1': [],\n",
       " '0.9-seed-0.95-0': [],\n",
       " '0.9-seed-0.95-1': [],\n",
       " '0.9-seed-0.92-0': [],\n",
       " '0.9-seed-0.92-1': [],\n",
       " '0.9-seed-0.9-0': [],\n",
       " '0.9-seed-0.9-1': [],\n",
       " '0.9-seed-0.85-0': [],\n",
       " '0.9-seed-0.85-1': [],\n",
       " '0.9-seed-0.8-0': [],\n",
       " '0.9-seed-0.8-1': [],\n",
       " '0.85-seed': ['0.85-seed-0.99-0', '0.85-seed-0.99-1'],\n",
       " '0.85-seed-0.97-0': [],\n",
       " '0.85-seed-0.97-1': [],\n",
       " '0.85-seed-0.95-0': [],\n",
       " '0.85-seed-0.95-1': [],\n",
       " '0.85-seed-0.92-0': [],\n",
       " '0.85-seed-0.92-1': [],\n",
       " '0.85-seed-0.9-0': [],\n",
       " '0.85-seed-0.9-1': [],\n",
       " '0.85-seed-0.85-0': [],\n",
       " '0.85-seed-0.85-1': [],\n",
       " '0.85-seed-0.8-0': [],\n",
       " '0.85-seed-0.8-1': [],\n",
       " '0.8-seed': ['0.8-seed-0.99-0', '0.8-seed-0.99-1', '0.8-seed-0.97-0'],\n",
       " '0.8-seed-0.97-1': [],\n",
       " '0.8-seed-0.95-0': [],\n",
       " '0.8-seed-0.95-1': [],\n",
       " '0.8-seed-0.92-0': [],\n",
       " '0.8-seed-0.92-1': [],\n",
       " '0.8-seed-0.9-0': [],\n",
       " '0.8-seed-0.9-1': [],\n",
       " '0.8-seed-0.85-0': [],\n",
       " '0.8-seed-0.85-1': [],\n",
       " '0.8-seed-0.8-0': [],\n",
       " '0.8-seed-0.8-1': []}"
      ]
     },
     "execution_count": 75,
     "metadata": {},
     "output_type": "execute_result"
    }
   ],
   "source": [
    "threshold = .6\n",
    "ignore_index = []\n",
    "tally_dict = {}\n",
    "\n",
    "debug=False\n",
    "\n",
    "for row_id in df.index:\n",
    "    \n",
    "    if debug:\n",
    "        print(row_id)\n",
    "        print(ignore_index)\n",
    "    \n",
    "    # if we've already assigned this index as a child, don't need to consider it's row\n",
    "    if not(row_id in ignore_index):\n",
    "   \n",
    "        # get the full dataframe row for this sample\n",
    "        this_row_init = df.loc[row_id]  \n",
    "        \n",
    "        # remove columns that are already children of other nodes\n",
    "        this_row = this_row_init.drop(labels = ignore_index)  \n",
    "        #print(this_row)\n",
    "        if debug:\n",
    "            print(this_row_init.shape)\n",
    "            print(this_row.shape)\n",
    "        \n",
    "        # children of this node are those with values greather than the threshold...\n",
    "        children = list(this_row[this_row > threshold].index)\n",
    "        children_filtered = [i for i in children if i != row_id ] #...not inlucding the node name itself\n",
    "        \n",
    "        if debug:\n",
    "            print(\"len of children_filtered: \" + str(len(children_filtered)) + '\\n\\n')\n",
    "        \n",
    "        # add the node + children to the dictionary, \n",
    "        # then add node + children to the set to ignore in future iterations\n",
    "        tally_dict[row_id] = children_filtered\n",
    "        ignore_index += children_filtered\n",
    "        ignore_index += [row_id]\n",
    "\n",
    "tally_dict"
   ]
  },
  {
   "cell_type": "code",
   "execution_count": 76,
   "metadata": {},
   "outputs": [
    {
     "name": "stdout",
     "output_type": "stream",
     "text": [
      "120\n",
      "104\n"
     ]
    }
   ],
   "source": [
    "print(len(df.index)) # this would be the original number of sequences\n",
    "print(len(tally_dict.keys()))  # this would be the number of sequences after compression"
   ]
  },
  {
   "cell_type": "code",
   "execution_count": 77,
   "metadata": {},
   "outputs": [
    {
     "data": {
      "text/plain": [
       "1.1538461538461537"
      ]
     },
     "execution_count": 77,
     "metadata": {},
     "output_type": "execute_result"
    }
   ],
   "source": [
    "120/104"
   ]
  },
  {
   "cell_type": "code",
   "execution_count": null,
   "metadata": {},
   "outputs": [],
   "source": []
  }
 ],
 "metadata": {
  "kernelspec": {
   "display_name": "Python 3",
   "language": "python",
   "name": "python3"
  },
  "language_info": {
   "codemirror_mode": {
    "name": "ipython",
    "version": 3
   },
   "file_extension": ".py",
   "mimetype": "text/x-python",
   "name": "python",
   "nbconvert_exporter": "python",
   "pygments_lexer": "ipython3",
   "version": "3.8.5"
  }
 },
 "nbformat": 4,
 "nbformat_minor": 4
}
